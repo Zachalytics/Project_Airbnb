{
 "cells": [
  {
   "cell_type": "markdown",
   "id": "dea3c0bb",
   "metadata": {},
   "source": [
    "# Importing"
   ]
  },
  {
   "cell_type": "code",
   "execution_count": 1,
   "id": "03699304",
   "metadata": {},
   "outputs": [],
   "source": [
    "import pandas as pd\n",
    "import numpy as np\n",
    "import os"
   ]
  },
  {
   "cell_type": "code",
   "execution_count": 2,
   "id": "a3bb6f76",
   "metadata": {},
   "outputs": [],
   "source": [
    "path= r'C:\\Users\\evras\\Desktop\\Project A6\\01 Data'"
   ]
  },
  {
   "cell_type": "code",
   "execution_count": 3,
   "id": "dcac3c70",
   "metadata": {},
   "outputs": [
    {
     "name": "stderr",
     "output_type": "stream",
     "text": [
      "C:\\Users\\evras\\anaconda3\\lib\\site-packages\\IPython\\core\\interactiveshell.py:3165: DtypeWarning: Columns (4) have mixed types.Specify dtype option on import or set low_memory=False.\n",
      "  has_raised = await self.run_ast_nodes(code_ast.body, cell_name,\n"
     ]
    }
   ],
   "source": [
    "df_bnb=pd.read_csv(os.path.join(path,'01 Original','AB_US_2020.csv'))"
   ]
  },
  {
   "cell_type": "code",
   "execution_count": 4,
   "id": "80c37132",
   "metadata": {},
   "outputs": [
    {
     "data": {
      "text/plain": [
       "(226029, 17)"
      ]
     },
     "execution_count": 4,
     "metadata": {},
     "output_type": "execute_result"
    }
   ],
   "source": [
    "df_bnb.shape"
   ]
  },
  {
   "cell_type": "code",
   "execution_count": 5,
   "id": "bc20d197",
   "metadata": {},
   "outputs": [
    {
     "data": {
      "text/html": [
       "<div>\n",
       "<style scoped>\n",
       "    .dataframe tbody tr th:only-of-type {\n",
       "        vertical-align: middle;\n",
       "    }\n",
       "\n",
       "    .dataframe tbody tr th {\n",
       "        vertical-align: top;\n",
       "    }\n",
       "\n",
       "    .dataframe thead th {\n",
       "        text-align: right;\n",
       "    }\n",
       "</style>\n",
       "<table border=\"1\" class=\"dataframe\">\n",
       "  <thead>\n",
       "    <tr style=\"text-align: right;\">\n",
       "      <th></th>\n",
       "      <th>id</th>\n",
       "      <th>name</th>\n",
       "      <th>host_id</th>\n",
       "      <th>host_name</th>\n",
       "      <th>neighbourhood_group</th>\n",
       "      <th>neighbourhood</th>\n",
       "      <th>latitude</th>\n",
       "      <th>longitude</th>\n",
       "      <th>room_type</th>\n",
       "      <th>price</th>\n",
       "      <th>minimum_nights</th>\n",
       "      <th>number_of_reviews</th>\n",
       "      <th>last_review</th>\n",
       "      <th>reviews_per_month</th>\n",
       "      <th>calculated_host_listings_count</th>\n",
       "      <th>availability_365</th>\n",
       "      <th>city</th>\n",
       "    </tr>\n",
       "  </thead>\n",
       "  <tbody>\n",
       "    <tr>\n",
       "      <th>0</th>\n",
       "      <td>38585</td>\n",
       "      <td>Charming Victorian home - twin beds + breakfast</td>\n",
       "      <td>165529</td>\n",
       "      <td>Evelyne</td>\n",
       "      <td>NaN</td>\n",
       "      <td>28804</td>\n",
       "      <td>35.65146</td>\n",
       "      <td>-82.62792</td>\n",
       "      <td>Private room</td>\n",
       "      <td>60</td>\n",
       "      <td>1</td>\n",
       "      <td>138</td>\n",
       "      <td>16/02/20</td>\n",
       "      <td>1.14</td>\n",
       "      <td>1</td>\n",
       "      <td>0</td>\n",
       "      <td>Asheville</td>\n",
       "    </tr>\n",
       "    <tr>\n",
       "      <th>1</th>\n",
       "      <td>80905</td>\n",
       "      <td>French Chic Loft</td>\n",
       "      <td>427027</td>\n",
       "      <td>Celeste</td>\n",
       "      <td>NaN</td>\n",
       "      <td>28801</td>\n",
       "      <td>35.59779</td>\n",
       "      <td>-82.55540</td>\n",
       "      <td>Entire home/apt</td>\n",
       "      <td>470</td>\n",
       "      <td>1</td>\n",
       "      <td>114</td>\n",
       "      <td>7/9/2020</td>\n",
       "      <td>1.03</td>\n",
       "      <td>11</td>\n",
       "      <td>288</td>\n",
       "      <td>Asheville</td>\n",
       "    </tr>\n",
       "    <tr>\n",
       "      <th>2</th>\n",
       "      <td>108061</td>\n",
       "      <td>Walk to stores/parks/downtown. Fenced yard/Pet...</td>\n",
       "      <td>320564</td>\n",
       "      <td>Lisa</td>\n",
       "      <td>NaN</td>\n",
       "      <td>28801</td>\n",
       "      <td>35.60670</td>\n",
       "      <td>-82.55563</td>\n",
       "      <td>Entire home/apt</td>\n",
       "      <td>75</td>\n",
       "      <td>30</td>\n",
       "      <td>89</td>\n",
       "      <td>30/11/19</td>\n",
       "      <td>0.81</td>\n",
       "      <td>2</td>\n",
       "      <td>298</td>\n",
       "      <td>Asheville</td>\n",
       "    </tr>\n",
       "    <tr>\n",
       "      <th>3</th>\n",
       "      <td>155305</td>\n",
       "      <td>Cottage! BonPaul + Sharky's Hostel</td>\n",
       "      <td>746673</td>\n",
       "      <td>BonPaul</td>\n",
       "      <td>NaN</td>\n",
       "      <td>28806</td>\n",
       "      <td>35.57864</td>\n",
       "      <td>-82.59578</td>\n",
       "      <td>Entire home/apt</td>\n",
       "      <td>90</td>\n",
       "      <td>1</td>\n",
       "      <td>267</td>\n",
       "      <td>22/09/20</td>\n",
       "      <td>2.39</td>\n",
       "      <td>5</td>\n",
       "      <td>0</td>\n",
       "      <td>Asheville</td>\n",
       "    </tr>\n",
       "    <tr>\n",
       "      <th>4</th>\n",
       "      <td>160594</td>\n",
       "      <td>Historic Grove Park</td>\n",
       "      <td>769252</td>\n",
       "      <td>Elizabeth</td>\n",
       "      <td>NaN</td>\n",
       "      <td>28801</td>\n",
       "      <td>35.61442</td>\n",
       "      <td>-82.54127</td>\n",
       "      <td>Private room</td>\n",
       "      <td>125</td>\n",
       "      <td>30</td>\n",
       "      <td>58</td>\n",
       "      <td>19/10/15</td>\n",
       "      <td>0.52</td>\n",
       "      <td>1</td>\n",
       "      <td>0</td>\n",
       "      <td>Asheville</td>\n",
       "    </tr>\n",
       "  </tbody>\n",
       "</table>\n",
       "</div>"
      ],
      "text/plain": [
       "       id                                               name  host_id  \\\n",
       "0   38585    Charming Victorian home - twin beds + breakfast   165529   \n",
       "1   80905                                   French Chic Loft   427027   \n",
       "2  108061  Walk to stores/parks/downtown. Fenced yard/Pet...   320564   \n",
       "3  155305                 Cottage! BonPaul + Sharky's Hostel   746673   \n",
       "4  160594                                Historic Grove Park   769252   \n",
       "\n",
       "   host_name neighbourhood_group neighbourhood  latitude  longitude  \\\n",
       "0    Evelyne                 NaN         28804  35.65146  -82.62792   \n",
       "1    Celeste                 NaN         28801  35.59779  -82.55540   \n",
       "2       Lisa                 NaN         28801  35.60670  -82.55563   \n",
       "3    BonPaul                 NaN         28806  35.57864  -82.59578   \n",
       "4  Elizabeth                 NaN         28801  35.61442  -82.54127   \n",
       "\n",
       "         room_type  price  minimum_nights  number_of_reviews last_review  \\\n",
       "0     Private room     60               1                138    16/02/20   \n",
       "1  Entire home/apt    470               1                114    7/9/2020   \n",
       "2  Entire home/apt     75              30                 89    30/11/19   \n",
       "3  Entire home/apt     90               1                267    22/09/20   \n",
       "4     Private room    125              30                 58    19/10/15   \n",
       "\n",
       "   reviews_per_month  calculated_host_listings_count  availability_365  \\\n",
       "0               1.14                               1                 0   \n",
       "1               1.03                              11               288   \n",
       "2               0.81                               2               298   \n",
       "3               2.39                               5                 0   \n",
       "4               0.52                               1                 0   \n",
       "\n",
       "        city  \n",
       "0  Asheville  \n",
       "1  Asheville  \n",
       "2  Asheville  \n",
       "3  Asheville  \n",
       "4  Asheville  "
      ]
     },
     "execution_count": 5,
     "metadata": {},
     "output_type": "execute_result"
    }
   ],
   "source": [
    "#getting an idea of what we're looking at here\n",
    "df_bnb.head()"
   ]
  },
  {
   "cell_type": "markdown",
   "id": "8f4fbf84",
   "metadata": {},
   "source": [
    "# Checking for nulls"
   ]
  },
  {
   "cell_type": "code",
   "execution_count": 6,
   "id": "9735da7b",
   "metadata": {
    "scrolled": true
   },
   "outputs": [
    {
     "data": {
      "text/plain": [
       "id                                     0\n",
       "name                                  28\n",
       "host_id                                0\n",
       "host_name                             33\n",
       "neighbourhood_group               115844\n",
       "neighbourhood                          0\n",
       "latitude                               0\n",
       "longitude                              0\n",
       "room_type                              0\n",
       "price                                  0\n",
       "minimum_nights                         0\n",
       "number_of_reviews                      0\n",
       "last_review                        48602\n",
       "reviews_per_month                  48602\n",
       "calculated_host_listings_count         0\n",
       "availability_365                       0\n",
       "city                                   0\n",
       "dtype: int64"
      ]
     },
     "execution_count": 6,
     "metadata": {},
     "output_type": "execute_result"
    }
   ],
   "source": [
    "#this will see where they are. I have a good idea of at least one column because of the preview earlier but let's check\n",
    "df_bnb.isnull().sum()"
   ]
  },
  {
   "cell_type": "code",
   "execution_count": 7,
   "id": "bf2d232a",
   "metadata": {},
   "outputs": [
    {
     "data": {
      "text/html": [
       "<div>\n",
       "<style scoped>\n",
       "    .dataframe tbody tr th:only-of-type {\n",
       "        vertical-align: middle;\n",
       "    }\n",
       "\n",
       "    .dataframe tbody tr th {\n",
       "        vertical-align: top;\n",
       "    }\n",
       "\n",
       "    .dataframe thead th {\n",
       "        text-align: right;\n",
       "    }\n",
       "</style>\n",
       "<table border=\"1\" class=\"dataframe\">\n",
       "  <thead>\n",
       "    <tr style=\"text-align: right;\">\n",
       "      <th></th>\n",
       "      <th>id</th>\n",
       "      <th>name</th>\n",
       "      <th>host_id</th>\n",
       "      <th>host_name</th>\n",
       "      <th>neighbourhood_group</th>\n",
       "      <th>neighbourhood</th>\n",
       "      <th>latitude</th>\n",
       "      <th>longitude</th>\n",
       "      <th>room_type</th>\n",
       "      <th>price</th>\n",
       "      <th>minimum_nights</th>\n",
       "      <th>number_of_reviews</th>\n",
       "      <th>last_review</th>\n",
       "      <th>reviews_per_month</th>\n",
       "      <th>calculated_host_listings_count</th>\n",
       "      <th>availability_365</th>\n",
       "      <th>city</th>\n",
       "    </tr>\n",
       "  </thead>\n",
       "  <tbody>\n",
       "    <tr>\n",
       "      <th>187</th>\n",
       "      <td>6775949</td>\n",
       "      <td>Cozy Cottage short walk to Downtown</td>\n",
       "      <td>35473023</td>\n",
       "      <td>Sherri</td>\n",
       "      <td>NaN</td>\n",
       "      <td>28801</td>\n",
       "      <td>35.603350</td>\n",
       "      <td>-82.551660</td>\n",
       "      <td>Entire home/apt</td>\n",
       "      <td>86</td>\n",
       "      <td>30</td>\n",
       "      <td>0</td>\n",
       "      <td>NaN</td>\n",
       "      <td>NaN</td>\n",
       "      <td>2</td>\n",
       "      <td>344</td>\n",
       "      <td>Asheville</td>\n",
       "    </tr>\n",
       "    <tr>\n",
       "      <th>286</th>\n",
       "      <td>12182918</td>\n",
       "      <td>MONTHLY - Grove Park - Charming Guest House</td>\n",
       "      <td>183656</td>\n",
       "      <td>Kim</td>\n",
       "      <td>NaN</td>\n",
       "      <td>28804</td>\n",
       "      <td>35.611640</td>\n",
       "      <td>-82.541670</td>\n",
       "      <td>Entire home/apt</td>\n",
       "      <td>72</td>\n",
       "      <td>30</td>\n",
       "      <td>0</td>\n",
       "      <td>NaN</td>\n",
       "      <td>NaN</td>\n",
       "      <td>1</td>\n",
       "      <td>107</td>\n",
       "      <td>Asheville</td>\n",
       "    </tr>\n",
       "    <tr>\n",
       "      <th>416</th>\n",
       "      <td>15359380</td>\n",
       "      <td>5 Points Bungalow, Your Home in Asheville</td>\n",
       "      <td>3677108</td>\n",
       "      <td>Charles &amp; Cheryl</td>\n",
       "      <td>NaN</td>\n",
       "      <td>28801</td>\n",
       "      <td>35.603880</td>\n",
       "      <td>-82.557270</td>\n",
       "      <td>Entire home/apt</td>\n",
       "      <td>214</td>\n",
       "      <td>30</td>\n",
       "      <td>0</td>\n",
       "      <td>NaN</td>\n",
       "      <td>NaN</td>\n",
       "      <td>3</td>\n",
       "      <td>327</td>\n",
       "      <td>Asheville</td>\n",
       "    </tr>\n",
       "    <tr>\n",
       "      <th>629</th>\n",
       "      <td>20255923</td>\n",
       "      <td>Sunrise Perch - High on a mountain &amp; close-in</td>\n",
       "      <td>144357357</td>\n",
       "      <td>Sunrise</td>\n",
       "      <td>NaN</td>\n",
       "      <td>28806</td>\n",
       "      <td>35.585310</td>\n",
       "      <td>-82.642690</td>\n",
       "      <td>Private room</td>\n",
       "      <td>39</td>\n",
       "      <td>1</td>\n",
       "      <td>0</td>\n",
       "      <td>NaN</td>\n",
       "      <td>NaN</td>\n",
       "      <td>1</td>\n",
       "      <td>83</td>\n",
       "      <td>Asheville</td>\n",
       "    </tr>\n",
       "    <tr>\n",
       "      <th>720</th>\n",
       "      <td>21513021</td>\n",
       "      <td>2 Bedroom Condo blocks to Downtown Asheville</td>\n",
       "      <td>21500666</td>\n",
       "      <td>Rory</td>\n",
       "      <td>NaN</td>\n",
       "      <td>28801</td>\n",
       "      <td>35.601790</td>\n",
       "      <td>-82.555900</td>\n",
       "      <td>Entire home/apt</td>\n",
       "      <td>200</td>\n",
       "      <td>30</td>\n",
       "      <td>0</td>\n",
       "      <td>NaN</td>\n",
       "      <td>NaN</td>\n",
       "      <td>1</td>\n",
       "      <td>178</td>\n",
       "      <td>Asheville</td>\n",
       "    </tr>\n",
       "    <tr>\n",
       "      <th>...</th>\n",
       "      <td>...</td>\n",
       "      <td>...</td>\n",
       "      <td>...</td>\n",
       "      <td>...</td>\n",
       "      <td>...</td>\n",
       "      <td>...</td>\n",
       "      <td>...</td>\n",
       "      <td>...</td>\n",
       "      <td>...</td>\n",
       "      <td>...</td>\n",
       "      <td>...</td>\n",
       "      <td>...</td>\n",
       "      <td>...</td>\n",
       "      <td>...</td>\n",
       "      <td>...</td>\n",
       "      <td>...</td>\n",
       "      <td>...</td>\n",
       "    </tr>\n",
       "    <tr>\n",
       "      <th>226024</th>\n",
       "      <td>45506143</td>\n",
       "      <td>DC Hidden In Plain \"Site\"</td>\n",
       "      <td>25973146</td>\n",
       "      <td>Marci</td>\n",
       "      <td>NaN</td>\n",
       "      <td>Downtown, Chinatown, Penn Quarters, Mount Vern...</td>\n",
       "      <td>38.903880</td>\n",
       "      <td>-77.029730</td>\n",
       "      <td>Entire home/apt</td>\n",
       "      <td>104</td>\n",
       "      <td>1</td>\n",
       "      <td>0</td>\n",
       "      <td>NaN</td>\n",
       "      <td>NaN</td>\n",
       "      <td>2</td>\n",
       "      <td>99</td>\n",
       "      <td>Washington D.C.</td>\n",
       "    </tr>\n",
       "    <tr>\n",
       "      <th>226025</th>\n",
       "      <td>45511428</td>\n",
       "      <td>DC 3 BR w/ screen porch 3 blck to metro w/ par...</td>\n",
       "      <td>231133074</td>\n",
       "      <td>Thomas</td>\n",
       "      <td>NaN</td>\n",
       "      <td>Brookland, Brentwood, Langdon</td>\n",
       "      <td>38.920820</td>\n",
       "      <td>-76.990980</td>\n",
       "      <td>Entire home/apt</td>\n",
       "      <td>151</td>\n",
       "      <td>2</td>\n",
       "      <td>0</td>\n",
       "      <td>NaN</td>\n",
       "      <td>NaN</td>\n",
       "      <td>1</td>\n",
       "      <td>300</td>\n",
       "      <td>Washington D.C.</td>\n",
       "    </tr>\n",
       "    <tr>\n",
       "      <th>226026</th>\n",
       "      <td>45514685</td>\n",
       "      <td>Charming Penthouse Apt w/ Rooftop Terrace in L...</td>\n",
       "      <td>33758935</td>\n",
       "      <td>Bassem</td>\n",
       "      <td>NaN</td>\n",
       "      <td>Shaw, Logan Circle</td>\n",
       "      <td>38.911170</td>\n",
       "      <td>-77.033540</td>\n",
       "      <td>Entire home/apt</td>\n",
       "      <td>240</td>\n",
       "      <td>2</td>\n",
       "      <td>0</td>\n",
       "      <td>NaN</td>\n",
       "      <td>NaN</td>\n",
       "      <td>1</td>\n",
       "      <td>173</td>\n",
       "      <td>Washington D.C.</td>\n",
       "    </tr>\n",
       "    <tr>\n",
       "      <th>226027</th>\n",
       "      <td>45516412</td>\n",
       "      <td>Adams Morgan/Nat'l Zoo 1 BR Apt #32</td>\n",
       "      <td>23193071</td>\n",
       "      <td>Michael</td>\n",
       "      <td>NaN</td>\n",
       "      <td>Kalorama Heights, Adams Morgan, Lanier Heights</td>\n",
       "      <td>38.926630</td>\n",
       "      <td>-77.044360</td>\n",
       "      <td>Entire home/apt</td>\n",
       "      <td>60</td>\n",
       "      <td>21</td>\n",
       "      <td>0</td>\n",
       "      <td>NaN</td>\n",
       "      <td>NaN</td>\n",
       "      <td>5</td>\n",
       "      <td>362</td>\n",
       "      <td>Washington D.C.</td>\n",
       "    </tr>\n",
       "    <tr>\n",
       "      <th>226028</th>\n",
       "      <td>45517735</td>\n",
       "      <td>Beautiful large one-bedroom w/ washer and dryer</td>\n",
       "      <td>17789858</td>\n",
       "      <td>Adam</td>\n",
       "      <td>NaN</td>\n",
       "      <td>Edgewood, Bloomingdale, Truxton Circle, Eckington</td>\n",
       "      <td>38.911569</td>\n",
       "      <td>-77.009431</td>\n",
       "      <td>Entire home/apt</td>\n",
       "      <td>79</td>\n",
       "      <td>7</td>\n",
       "      <td>0</td>\n",
       "      <td>NaN</td>\n",
       "      <td>NaN</td>\n",
       "      <td>2</td>\n",
       "      <td>62</td>\n",
       "      <td>Washington D.C.</td>\n",
       "    </tr>\n",
       "  </tbody>\n",
       "</table>\n",
       "<p>48602 rows × 17 columns</p>\n",
       "</div>"
      ],
      "text/plain": [
       "              id                                               name  \\\n",
       "187      6775949                Cozy Cottage short walk to Downtown   \n",
       "286     12182918        MONTHLY - Grove Park - Charming Guest House   \n",
       "416     15359380          5 Points Bungalow, Your Home in Asheville   \n",
       "629     20255923      Sunrise Perch - High on a mountain & close-in   \n",
       "720     21513021       2 Bedroom Condo blocks to Downtown Asheville   \n",
       "...          ...                                                ...   \n",
       "226024  45506143                          DC Hidden In Plain \"Site\"   \n",
       "226025  45511428  DC 3 BR w/ screen porch 3 blck to metro w/ par...   \n",
       "226026  45514685  Charming Penthouse Apt w/ Rooftop Terrace in L...   \n",
       "226027  45516412                Adams Morgan/Nat'l Zoo 1 BR Apt #32   \n",
       "226028  45517735    Beautiful large one-bedroom w/ washer and dryer   \n",
       "\n",
       "          host_id         host_name neighbourhood_group  \\\n",
       "187      35473023            Sherri                 NaN   \n",
       "286        183656               Kim                 NaN   \n",
       "416       3677108  Charles & Cheryl                 NaN   \n",
       "629     144357357           Sunrise                 NaN   \n",
       "720      21500666              Rory                 NaN   \n",
       "...           ...               ...                 ...   \n",
       "226024   25973146             Marci                 NaN   \n",
       "226025  231133074            Thomas                 NaN   \n",
       "226026   33758935            Bassem                 NaN   \n",
       "226027   23193071           Michael                 NaN   \n",
       "226028   17789858              Adam                 NaN   \n",
       "\n",
       "                                            neighbourhood   latitude  \\\n",
       "187                                                 28801  35.603350   \n",
       "286                                                 28804  35.611640   \n",
       "416                                                 28801  35.603880   \n",
       "629                                                 28806  35.585310   \n",
       "720                                                 28801  35.601790   \n",
       "...                                                   ...        ...   \n",
       "226024  Downtown, Chinatown, Penn Quarters, Mount Vern...  38.903880   \n",
       "226025                      Brookland, Brentwood, Langdon  38.920820   \n",
       "226026                                 Shaw, Logan Circle  38.911170   \n",
       "226027     Kalorama Heights, Adams Morgan, Lanier Heights  38.926630   \n",
       "226028  Edgewood, Bloomingdale, Truxton Circle, Eckington  38.911569   \n",
       "\n",
       "        longitude        room_type  price  minimum_nights  number_of_reviews  \\\n",
       "187    -82.551660  Entire home/apt     86              30                  0   \n",
       "286    -82.541670  Entire home/apt     72              30                  0   \n",
       "416    -82.557270  Entire home/apt    214              30                  0   \n",
       "629    -82.642690     Private room     39               1                  0   \n",
       "720    -82.555900  Entire home/apt    200              30                  0   \n",
       "...           ...              ...    ...             ...                ...   \n",
       "226024 -77.029730  Entire home/apt    104               1                  0   \n",
       "226025 -76.990980  Entire home/apt    151               2                  0   \n",
       "226026 -77.033540  Entire home/apt    240               2                  0   \n",
       "226027 -77.044360  Entire home/apt     60              21                  0   \n",
       "226028 -77.009431  Entire home/apt     79               7                  0   \n",
       "\n",
       "       last_review  reviews_per_month  calculated_host_listings_count  \\\n",
       "187            NaN                NaN                               2   \n",
       "286            NaN                NaN                               1   \n",
       "416            NaN                NaN                               3   \n",
       "629            NaN                NaN                               1   \n",
       "720            NaN                NaN                               1   \n",
       "...            ...                ...                             ...   \n",
       "226024         NaN                NaN                               2   \n",
       "226025         NaN                NaN                               1   \n",
       "226026         NaN                NaN                               1   \n",
       "226027         NaN                NaN                               5   \n",
       "226028         NaN                NaN                               2   \n",
       "\n",
       "        availability_365             city  \n",
       "187                  344        Asheville  \n",
       "286                  107        Asheville  \n",
       "416                  327        Asheville  \n",
       "629                   83        Asheville  \n",
       "720                  178        Asheville  \n",
       "...                  ...              ...  \n",
       "226024                99  Washington D.C.  \n",
       "226025               300  Washington D.C.  \n",
       "226026               173  Washington D.C.  \n",
       "226027               362  Washington D.C.  \n",
       "226028                62  Washington D.C.  \n",
       "\n",
       "[48602 rows x 17 columns]"
      ]
     },
     "execution_count": 7,
     "metadata": {},
     "output_type": "execute_result"
    }
   ],
   "source": [
    "#so my guess here is that the nulls that are showingg up are probably related to the last_review column.\n",
    "#if you look up to the first time I did .info() you'll see that last_review and reviews_per_month have the same non-null counts\n",
    "#this suggests a corelation. My guesss is, if there was never a previous review then the per month value would be 0, but got left blank.\n",
    "\n",
    "#this line will filter out all the non-null results in the reviews_per_month column, so we can look and see if I'm right\n",
    "df_bnb.query('reviews_per_month != reviews_per_month')"
   ]
  },
  {
   "cell_type": "code",
   "execution_count": 8,
   "id": "9a6fb1fa",
   "metadata": {},
   "outputs": [],
   "source": [
    "#that's promising. I want to do a quick value count on number_of_reviews just to be safe\n",
    "#to do that I'll set the query to it's own frame and run a value_counts after\n",
    "df_bnb_rev=df_bnb.query('reviews_per_month != reviews_per_month')"
   ]
  },
  {
   "cell_type": "code",
   "execution_count": 9,
   "id": "bd62df22",
   "metadata": {},
   "outputs": [
    {
     "data": {
      "text/plain": [
       "0    48602\n",
       "Name: number_of_reviews, dtype: int64"
      ]
     },
     "execution_count": 9,
     "metadata": {},
     "output_type": "execute_result"
    }
   ],
   "source": [
    "#now for the count, I want a result that looks like 0  48602\n",
    "df_bnb_rev['number_of_reviews'].value_counts()"
   ]
  },
  {
   "cell_type": "code",
   "execution_count": 10,
   "id": "ad4dbb2f",
   "metadata": {},
   "outputs": [],
   "source": [
    "# well, looks right. Cool beans.\n",
    "# So we'll get rid of the rev frame bevause we don't need it\n",
    "del(df_bnb_rev)"
   ]
  },
  {
   "cell_type": "code",
   "execution_count": 11,
   "id": "ca939e00",
   "metadata": {},
   "outputs": [
    {
     "name": "stdout",
     "output_type": "stream",
     "text": [
      "<class 'pandas.core.frame.DataFrame'>\n",
      "RangeIndex: 226029 entries, 0 to 226028\n",
      "Data columns (total 17 columns):\n",
      " #   Column                          Non-Null Count   Dtype  \n",
      "---  ------                          --------------   -----  \n",
      " 0   id                              226029 non-null  int64  \n",
      " 1   name                            226001 non-null  object \n",
      " 2   host_id                         226029 non-null  int64  \n",
      " 3   host_name                       225996 non-null  object \n",
      " 4   neighbourhood_group             110185 non-null  object \n",
      " 5   neighbourhood                   226029 non-null  object \n",
      " 6   latitude                        226029 non-null  float64\n",
      " 7   longitude                       226029 non-null  float64\n",
      " 8   room_type                       226029 non-null  object \n",
      " 9   price                           226029 non-null  int64  \n",
      " 10  minimum_nights                  226029 non-null  int64  \n",
      " 11  number_of_reviews               226029 non-null  int64  \n",
      " 12  last_review                     177427 non-null  object \n",
      " 13  reviews_per_month               177427 non-null  float64\n",
      " 14  calculated_host_listings_count  226029 non-null  int64  \n",
      " 15  availability_365                226029 non-null  int64  \n",
      " 16  city                            226029 non-null  object \n",
      "dtypes: float64(3), int64(7), object(7)\n",
      "memory usage: 29.3+ MB\n"
     ]
    }
   ],
   "source": [
    "df_bnb.info()"
   ]
  },
  {
   "cell_type": "markdown",
   "id": "144e58c7",
   "metadata": {},
   "source": [
    "### Getting rid of the null values"
   ]
  },
  {
   "cell_type": "code",
   "execution_count": 12,
   "id": "23a08af8",
   "metadata": {},
   "outputs": [],
   "source": [
    "# I'll go ahead and replace the nulls in reviews_per_month with 0\n",
    "# I think I'll change last_reveiw to None, just to avoid confusion.\n",
    "# Also of note is that there are missing values in name and host_name\n",
    "# I'll leave host_name alone because I'm dropping that column, but name I'll drop the nulls for, it's only 28."
   ]
  },
  {
   "cell_type": "code",
   "execution_count": 13,
   "id": "3137c7f2",
   "metadata": {},
   "outputs": [],
   "source": [
    "#first the nulls un reviews_per_month\n",
    "df_bnb['reviews_per_month'].fillna(\"None\",inplace=True)"
   ]
  },
  {
   "cell_type": "code",
   "execution_count": 14,
   "id": "bb046fa1",
   "metadata": {},
   "outputs": [
    {
     "data": {
      "text/plain": [
       "id                                     0\n",
       "name                                  28\n",
       "host_id                                0\n",
       "host_name                             33\n",
       "neighbourhood_group               115844\n",
       "neighbourhood                          0\n",
       "latitude                               0\n",
       "longitude                              0\n",
       "room_type                              0\n",
       "price                                  0\n",
       "minimum_nights                         0\n",
       "number_of_reviews                      0\n",
       "last_review                        48602\n",
       "reviews_per_month                      0\n",
       "calculated_host_listings_count         0\n",
       "availability_365                       0\n",
       "city                                   0\n",
       "dtype: int64"
      ]
     },
     "execution_count": 14,
     "metadata": {},
     "output_type": "execute_result"
    }
   ],
   "source": [
    "#checking that it worked\n",
    "df_bnb.isnull().sum()"
   ]
  },
  {
   "cell_type": "code",
   "execution_count": 15,
   "id": "406c56d5",
   "metadata": {},
   "outputs": [],
   "source": [
    "df_bnb['reviews_per_month']=df_bnb['reviews_per_month'].replace(\"None\",'0')"
   ]
  },
  {
   "cell_type": "code",
   "execution_count": 16,
   "id": "599cad06",
   "metadata": {},
   "outputs": [
    {
     "data": {
      "text/plain": [
       "0        48602\n",
       "0.03      2836\n",
       "0.02      2758\n",
       "0.08      2525\n",
       "0.04      2482\n",
       "         ...  \n",
       "19.27        1\n",
       "17.26        1\n",
       "20.74        1\n",
       "21.16        1\n",
       "11.79        1\n",
       "Name: reviews_per_month, Length: 1243, dtype: int64"
      ]
     },
     "execution_count": 16,
     "metadata": {},
     "output_type": "execute_result"
    }
   ],
   "source": [
    "df_bnb['reviews_per_month'].value_counts()"
   ]
  },
  {
   "cell_type": "code",
   "execution_count": 17,
   "id": "f1254fc1",
   "metadata": {},
   "outputs": [],
   "source": [
    "df_bnb['last_review'].fillna(\"None\", inplace=True)"
   ]
  },
  {
   "cell_type": "code",
   "execution_count": 18,
   "id": "5cee140f",
   "metadata": {
    "scrolled": true
   },
   "outputs": [
    {
     "data": {
      "text/plain": [
       "None         48602\n",
       "15/03/20      2915\n",
       "7/9/2020      2080\n",
       "8/3/2020      1989\n",
       "23/08/20      1929\n",
       "             ...  \n",
       "13/02/16         1\n",
       "22/01/14         1\n",
       "5/11/2014        1\n",
       "30/10/14         1\n",
       "8/7/2014         1\n",
       "Name: last_review, Length: 2378, dtype: int64"
      ]
     },
     "execution_count": 18,
     "metadata": {},
     "output_type": "execute_result"
    }
   ],
   "source": [
    "#next will be last_review.\n",
    "df_bnb['last_review'].value_counts(dropna=False)"
   ]
  },
  {
   "cell_type": "code",
   "execution_count": 19,
   "id": "4a992b4d",
   "metadata": {},
   "outputs": [
    {
     "data": {
      "text/plain": [
       "id                                     0\n",
       "name                                  28\n",
       "host_id                                0\n",
       "host_name                             33\n",
       "neighbourhood_group               115844\n",
       "neighbourhood                          0\n",
       "latitude                               0\n",
       "longitude                              0\n",
       "room_type                              0\n",
       "price                                  0\n",
       "minimum_nights                         0\n",
       "number_of_reviews                      0\n",
       "last_review                            0\n",
       "reviews_per_month                      0\n",
       "calculated_host_listings_count         0\n",
       "availability_365                       0\n",
       "city                                   0\n",
       "dtype: int64"
      ]
     },
     "execution_count": 19,
     "metadata": {},
     "output_type": "execute_result"
    }
   ],
   "source": [
    "#Checking\n",
    "df_bnb.isnull().sum()"
   ]
  },
  {
   "cell_type": "code",
   "execution_count": 20,
   "id": "fb76f52e",
   "metadata": {},
   "outputs": [],
   "source": [
    "# OK, same deal. None needs to be 115845\n",
    "df_bnb['neighbourhood_group'].fillna(\"None\",inplace=True)"
   ]
  },
  {
   "cell_type": "code",
   "execution_count": 21,
   "id": "24d7d819",
   "metadata": {
    "scrolled": false
   },
   "outputs": [
    {
     "data": {
      "text/plain": [
       "Interbay                    34\n",
       "Seward Park                 69\n",
       "Bristol                    107\n",
       "Kent                       108\n",
       "Lake City                  118\n",
       "Magnolia                   132\n",
       "Northgate                  150\n",
       "Delridge                   201\n",
       "University District        238\n",
       "Beacon Hill                252\n",
       "Cascade                    268\n",
       "Staten Island              326\n",
       "Rainier Valley             357\n",
       "Ballard                    369\n",
       "West Seattle               378\n",
       "Queen Anne                 459\n",
       "Central Area               572\n",
       "Capitol Hill               682\n",
       "Downtown                  1043\n",
       "Providence                1056\n",
       "Bronx                     1185\n",
       "Washington                1201\n",
       "Other neighborhoods       1253\n",
       "Newport                   1412\n",
       "Unincorporated Areas      2529\n",
       "Kauai                     3247\n",
       "Hawaii                    4977\n",
       "Queens                    5746\n",
       "Honolulu                  6313\n",
       "Maui                      7897\n",
       "Other Cities             11463\n",
       "City of Los Angeles      17544\n",
       "Brooklyn                 18263\n",
       "Manhattan                20236\n",
       "None                    115844\n",
       "Name: neighbourhood_group, dtype: int64"
      ]
     },
     "execution_count": 21,
     "metadata": {},
     "output_type": "execute_result"
    }
   ],
   "source": [
    "df_bnb['neighbourhood_group'].value_counts(ascending=True)"
   ]
  },
  {
   "cell_type": "code",
   "execution_count": 22,
   "id": "7b8969ee",
   "metadata": {
    "scrolled": true
   },
   "outputs": [],
   "source": [
    "#awesome"
   ]
  },
  {
   "cell_type": "code",
   "execution_count": 23,
   "id": "14ee9485",
   "metadata": {
    "scrolled": true
   },
   "outputs": [
    {
     "data": {
      "text/plain": [
       "id                                 0\n",
       "name                              28\n",
       "host_id                            0\n",
       "host_name                         33\n",
       "neighbourhood_group                0\n",
       "neighbourhood                      0\n",
       "latitude                           0\n",
       "longitude                          0\n",
       "room_type                          0\n",
       "price                              0\n",
       "minimum_nights                     0\n",
       "number_of_reviews                  0\n",
       "last_review                        0\n",
       "reviews_per_month                  0\n",
       "calculated_host_listings_count     0\n",
       "availability_365                   0\n",
       "city                               0\n",
       "dtype: int64"
      ]
     },
     "execution_count": 23,
     "metadata": {},
     "output_type": "execute_result"
    }
   ],
   "source": [
    "df_bnb.isnull().sum()"
   ]
  },
  {
   "cell_type": "code",
   "execution_count": 24,
   "id": "a7e14a24",
   "metadata": {},
   "outputs": [],
   "source": [
    "#ok, that leaves name and host_name\n",
    "#I'm going to go ahead and drop the missings in name first\n",
    "# I was trying to just do dropna but for some reason it got rid of everything so we'll do it the long way\n",
    "df_bnb_2=df_bnb[df_bnb['name'].isnull()==False]"
   ]
  },
  {
   "cell_type": "code",
   "execution_count": 25,
   "id": "a8453a7e",
   "metadata": {},
   "outputs": [
    {
     "data": {
      "text/plain": [
       "id                                 0\n",
       "name                               0\n",
       "host_id                            0\n",
       "host_name                         33\n",
       "neighbourhood_group                0\n",
       "neighbourhood                      0\n",
       "latitude                           0\n",
       "longitude                          0\n",
       "room_type                          0\n",
       "price                              0\n",
       "minimum_nights                     0\n",
       "number_of_reviews                  0\n",
       "last_review                        0\n",
       "reviews_per_month                  0\n",
       "calculated_host_listings_count     0\n",
       "availability_365                   0\n",
       "city                               0\n",
       "dtype: int64"
      ]
     },
     "execution_count": 25,
     "metadata": {},
     "output_type": "execute_result"
    }
   ],
   "source": [
    "#just to make sure\n",
    "df_bnb_2.isnull().sum()"
   ]
  },
  {
   "cell_type": "code",
   "execution_count": 26,
   "id": "ef6300b4",
   "metadata": {},
   "outputs": [],
   "source": [
    "#cool, now we'll just set the old from equal to the new frame and we'll be all set\n",
    "df_bnb=df_bnb_2"
   ]
  },
  {
   "cell_type": "code",
   "execution_count": 27,
   "id": "68746e42",
   "metadata": {},
   "outputs": [
    {
     "data": {
      "text/plain": [
       "id                                 0\n",
       "name                               0\n",
       "host_id                            0\n",
       "host_name                         33\n",
       "neighbourhood_group                0\n",
       "neighbourhood                      0\n",
       "latitude                           0\n",
       "longitude                          0\n",
       "room_type                          0\n",
       "price                              0\n",
       "minimum_nights                     0\n",
       "number_of_reviews                  0\n",
       "last_review                        0\n",
       "reviews_per_month                  0\n",
       "calculated_host_listings_count     0\n",
       "availability_365                   0\n",
       "city                               0\n",
       "dtype: int64"
      ]
     },
     "execution_count": 27,
     "metadata": {},
     "output_type": "execute_result"
    }
   ],
   "source": [
    "df_bnb.isnull().sum()"
   ]
  },
  {
   "cell_type": "code",
   "execution_count": 28,
   "id": "0893d86d",
   "metadata": {},
   "outputs": [],
   "source": [
    "# Ok, moving on.\n",
    "# While there is definetly an arugment to made here that since this is all public listings theres is no privacy concerns\n",
    "# I'd rather err on the side of caution, so I'll just drop the host_name column at the end."
   ]
  },
  {
   "cell_type": "markdown",
   "id": "11f1bac0",
   "metadata": {},
   "source": [
    "# Checking for data type consistency"
   ]
  },
  {
   "cell_type": "code",
   "execution_count": 29,
   "id": "b87d1418",
   "metadata": {
    "scrolled": false
   },
   "outputs": [
    {
     "name": "stdout",
     "output_type": "stream",
     "text": [
      "<class 'pandas.core.frame.DataFrame'>\n",
      "Int64Index: 226001 entries, 0 to 226028\n",
      "Data columns (total 17 columns):\n",
      " #   Column                          Non-Null Count   Dtype  \n",
      "---  ------                          --------------   -----  \n",
      " 0   id                              226001 non-null  int64  \n",
      " 1   name                            226001 non-null  object \n",
      " 2   host_id                         226001 non-null  int64  \n",
      " 3   host_name                       225968 non-null  object \n",
      " 4   neighbourhood_group             226001 non-null  object \n",
      " 5   neighbourhood                   226001 non-null  object \n",
      " 6   latitude                        226001 non-null  float64\n",
      " 7   longitude                       226001 non-null  float64\n",
      " 8   room_type                       226001 non-null  object \n",
      " 9   price                           226001 non-null  int64  \n",
      " 10  minimum_nights                  226001 non-null  int64  \n",
      " 11  number_of_reviews               226001 non-null  int64  \n",
      " 12  last_review                     226001 non-null  object \n",
      " 13  reviews_per_month               226001 non-null  object \n",
      " 14  calculated_host_listings_count  226001 non-null  int64  \n",
      " 15  availability_365                226001 non-null  int64  \n",
      " 16  city                            226001 non-null  object \n",
      "dtypes: float64(2), int64(7), object(8)\n",
      "memory usage: 31.0+ MB\n"
     ]
    }
   ],
   "source": [
    "#Let's take a look at where everything is at to begin with and work down from there.\n",
    "df_bnb.info()"
   ]
  },
  {
   "cell_type": "code",
   "execution_count": 30,
   "id": "399489ee",
   "metadata": {},
   "outputs": [
    {
     "name": "stdout",
     "output_type": "stream",
     "text": [
      "host_name\n",
      "reviews_per_month\n"
     ]
    }
   ],
   "source": [
    "#no to highlight the ones that are mixed\n",
    "for col in df_bnb.columns.tolist():\n",
    "    weird=(df_bnb[[col]].applymap(type)!=df_bnb[[col]].iloc[0].apply(type)).any(axis=1)\n",
    "    if len (df_bnb[weird])>0:\n",
    "        print(col)"
   ]
  },
  {
   "cell_type": "code",
   "execution_count": 31,
   "id": "4ef69ae2",
   "metadata": {},
   "outputs": [],
   "source": [
    "#so now I know what is mixed and I can assess the other ones for what I want to change if I need to\n",
    "#To be changed ... id, name, host_id, host_name, neighbourhood_group, last_review. They all need to be strings.\n",
    "df_bnb=df_bnb.astype({'id':'str', 'name':'str', 'host_id':'str', 'host_name':'str', 'neighbourhood_group':'str', 'last_review':'str', 'reviews_per_month':'float64'})"
   ]
  },
  {
   "cell_type": "code",
   "execution_count": 32,
   "id": "0c20f73f",
   "metadata": {},
   "outputs": [],
   "source": [
    "#ok now to check and make sure we're in the clear on that.\n",
    "for col in df_bnb.columns.tolist():\n",
    "    weird=(df_bnb[[col]].applymap(type)!=df_bnb[[col]].iloc[0].apply(type)).any(axis=1)\n",
    "    if len (df_bnb[weird])>0:\n",
    "        print(col)"
   ]
  },
  {
   "cell_type": "code",
   "execution_count": 33,
   "id": "19603f1a",
   "metadata": {},
   "outputs": [
    {
     "name": "stdout",
     "output_type": "stream",
     "text": [
      "<class 'pandas.core.frame.DataFrame'>\n",
      "Int64Index: 226001 entries, 0 to 226028\n",
      "Data columns (total 17 columns):\n",
      " #   Column                          Non-Null Count   Dtype  \n",
      "---  ------                          --------------   -----  \n",
      " 0   id                              226001 non-null  object \n",
      " 1   name                            226001 non-null  object \n",
      " 2   host_id                         226001 non-null  object \n",
      " 3   host_name                       226001 non-null  object \n",
      " 4   neighbourhood_group             226001 non-null  object \n",
      " 5   neighbourhood                   226001 non-null  object \n",
      " 6   latitude                        226001 non-null  float64\n",
      " 7   longitude                       226001 non-null  float64\n",
      " 8   room_type                       226001 non-null  object \n",
      " 9   price                           226001 non-null  int64  \n",
      " 10  minimum_nights                  226001 non-null  int64  \n",
      " 11  number_of_reviews               226001 non-null  int64  \n",
      " 12  last_review                     226001 non-null  object \n",
      " 13  reviews_per_month               226001 non-null  float64\n",
      " 14  calculated_host_listings_count  226001 non-null  int64  \n",
      " 15  availability_365                226001 non-null  int64  \n",
      " 16  city                            226001 non-null  object \n",
      "dtypes: float64(3), int64(5), object(9)\n",
      "memory usage: 31.0+ MB\n"
     ]
    }
   ],
   "source": [
    "df_bnb.info()"
   ]
  },
  {
   "cell_type": "code",
   "execution_count": 34,
   "id": "41ae930d",
   "metadata": {},
   "outputs": [],
   "source": [
    "#Next up..."
   ]
  },
  {
   "cell_type": "markdown",
   "id": "94435548",
   "metadata": {},
   "source": [
    "# Checking for duplicates"
   ]
  },
  {
   "cell_type": "code",
   "execution_count": 35,
   "id": "7764a626",
   "metadata": {},
   "outputs": [
    {
     "data": {
      "text/html": [
       "<div>\n",
       "<style scoped>\n",
       "    .dataframe tbody tr th:only-of-type {\n",
       "        vertical-align: middle;\n",
       "    }\n",
       "\n",
       "    .dataframe tbody tr th {\n",
       "        vertical-align: top;\n",
       "    }\n",
       "\n",
       "    .dataframe thead th {\n",
       "        text-align: right;\n",
       "    }\n",
       "</style>\n",
       "<table border=\"1\" class=\"dataframe\">\n",
       "  <thead>\n",
       "    <tr style=\"text-align: right;\">\n",
       "      <th></th>\n",
       "      <th>id</th>\n",
       "      <th>name</th>\n",
       "      <th>host_id</th>\n",
       "      <th>host_name</th>\n",
       "      <th>neighbourhood_group</th>\n",
       "      <th>neighbourhood</th>\n",
       "      <th>latitude</th>\n",
       "      <th>longitude</th>\n",
       "      <th>room_type</th>\n",
       "      <th>price</th>\n",
       "      <th>minimum_nights</th>\n",
       "      <th>number_of_reviews</th>\n",
       "      <th>last_review</th>\n",
       "      <th>reviews_per_month</th>\n",
       "      <th>calculated_host_listings_count</th>\n",
       "      <th>availability_365</th>\n",
       "      <th>city</th>\n",
       "    </tr>\n",
       "  </thead>\n",
       "  <tbody>\n",
       "    <tr>\n",
       "      <th>27734</th>\n",
       "      <td>43806155</td>\n",
       "      <td>Beautiful 14th floor view mins from MGH - Evonify</td>\n",
       "      <td>212359760</td>\n",
       "      <td>Evonify</td>\n",
       "      <td>None</td>\n",
       "      <td>East Cambridge</td>\n",
       "      <td>42.36461</td>\n",
       "      <td>-71.06792</td>\n",
       "      <td>Entire home/apt</td>\n",
       "      <td>299</td>\n",
       "      <td>13</td>\n",
       "      <td>0</td>\n",
       "      <td>None</td>\n",
       "      <td>0.0</td>\n",
       "      <td>1</td>\n",
       "      <td>0</td>\n",
       "      <td>Cambridge</td>\n",
       "    </tr>\n",
       "  </tbody>\n",
       "</table>\n",
       "</div>"
      ],
      "text/plain": [
       "             id                                               name    host_id  \\\n",
       "27734  43806155  Beautiful 14th floor view mins from MGH - Evonify  212359760   \n",
       "\n",
       "      host_name neighbourhood_group   neighbourhood  latitude  longitude  \\\n",
       "27734   Evonify                None  East Cambridge  42.36461  -71.06792   \n",
       "\n",
       "             room_type  price  minimum_nights  number_of_reviews last_review  \\\n",
       "27734  Entire home/apt    299              13                  0        None   \n",
       "\n",
       "       reviews_per_month  calculated_host_listings_count  availability_365  \\\n",
       "27734                0.0                               1                 0   \n",
       "\n",
       "            city  \n",
       "27734  Cambridge  "
      ]
     },
     "execution_count": 35,
     "metadata": {},
     "output_type": "execute_result"
    }
   ],
   "source": [
    "#The best way to cut out duplicates might be to just find them in the id section, since those should be unique\n",
    "#first we'll isolate the duplicates in thier own frame\n",
    "df_bnb_dubs = df_bnb[df_bnb['id'].duplicated()]\n",
    "df_bnb_dubs.head()"
   ]
  },
  {
   "cell_type": "code",
   "execution_count": 36,
   "id": "a4457304",
   "metadata": {},
   "outputs": [],
   "source": [
    "#cool, now to get rid of it.\n",
    "df_bnb_3=df_bnb.drop_duplicates(subset=['id'])"
   ]
  },
  {
   "cell_type": "code",
   "execution_count": 37,
   "id": "7f06594b",
   "metadata": {},
   "outputs": [
    {
     "data": {
      "text/html": [
       "<div>\n",
       "<style scoped>\n",
       "    .dataframe tbody tr th:only-of-type {\n",
       "        vertical-align: middle;\n",
       "    }\n",
       "\n",
       "    .dataframe tbody tr th {\n",
       "        vertical-align: top;\n",
       "    }\n",
       "\n",
       "    .dataframe thead th {\n",
       "        text-align: right;\n",
       "    }\n",
       "</style>\n",
       "<table border=\"1\" class=\"dataframe\">\n",
       "  <thead>\n",
       "    <tr style=\"text-align: right;\">\n",
       "      <th></th>\n",
       "      <th>id</th>\n",
       "      <th>name</th>\n",
       "      <th>host_id</th>\n",
       "      <th>host_name</th>\n",
       "      <th>neighbourhood_group</th>\n",
       "      <th>neighbourhood</th>\n",
       "      <th>latitude</th>\n",
       "      <th>longitude</th>\n",
       "      <th>room_type</th>\n",
       "      <th>price</th>\n",
       "      <th>minimum_nights</th>\n",
       "      <th>number_of_reviews</th>\n",
       "      <th>last_review</th>\n",
       "      <th>reviews_per_month</th>\n",
       "      <th>calculated_host_listings_count</th>\n",
       "      <th>availability_365</th>\n",
       "      <th>city</th>\n",
       "    </tr>\n",
       "  </thead>\n",
       "  <tbody>\n",
       "    <tr>\n",
       "      <th>0</th>\n",
       "      <td>38585</td>\n",
       "      <td>Charming Victorian home - twin beds + breakfast</td>\n",
       "      <td>165529</td>\n",
       "      <td>Evelyne</td>\n",
       "      <td>None</td>\n",
       "      <td>28804</td>\n",
       "      <td>35.65146</td>\n",
       "      <td>-82.62792</td>\n",
       "      <td>Private room</td>\n",
       "      <td>60</td>\n",
       "      <td>1</td>\n",
       "      <td>138</td>\n",
       "      <td>16/02/20</td>\n",
       "      <td>1.14</td>\n",
       "      <td>1</td>\n",
       "      <td>0</td>\n",
       "      <td>Asheville</td>\n",
       "    </tr>\n",
       "    <tr>\n",
       "      <th>1</th>\n",
       "      <td>80905</td>\n",
       "      <td>French Chic Loft</td>\n",
       "      <td>427027</td>\n",
       "      <td>Celeste</td>\n",
       "      <td>None</td>\n",
       "      <td>28801</td>\n",
       "      <td>35.59779</td>\n",
       "      <td>-82.55540</td>\n",
       "      <td>Entire home/apt</td>\n",
       "      <td>470</td>\n",
       "      <td>1</td>\n",
       "      <td>114</td>\n",
       "      <td>7/9/2020</td>\n",
       "      <td>1.03</td>\n",
       "      <td>11</td>\n",
       "      <td>288</td>\n",
       "      <td>Asheville</td>\n",
       "    </tr>\n",
       "    <tr>\n",
       "      <th>2</th>\n",
       "      <td>108061</td>\n",
       "      <td>Walk to stores/parks/downtown. Fenced yard/Pet...</td>\n",
       "      <td>320564</td>\n",
       "      <td>Lisa</td>\n",
       "      <td>None</td>\n",
       "      <td>28801</td>\n",
       "      <td>35.60670</td>\n",
       "      <td>-82.55563</td>\n",
       "      <td>Entire home/apt</td>\n",
       "      <td>75</td>\n",
       "      <td>30</td>\n",
       "      <td>89</td>\n",
       "      <td>30/11/19</td>\n",
       "      <td>0.81</td>\n",
       "      <td>2</td>\n",
       "      <td>298</td>\n",
       "      <td>Asheville</td>\n",
       "    </tr>\n",
       "    <tr>\n",
       "      <th>3</th>\n",
       "      <td>155305</td>\n",
       "      <td>Cottage! BonPaul + Sharky's Hostel</td>\n",
       "      <td>746673</td>\n",
       "      <td>BonPaul</td>\n",
       "      <td>None</td>\n",
       "      <td>28806</td>\n",
       "      <td>35.57864</td>\n",
       "      <td>-82.59578</td>\n",
       "      <td>Entire home/apt</td>\n",
       "      <td>90</td>\n",
       "      <td>1</td>\n",
       "      <td>267</td>\n",
       "      <td>22/09/20</td>\n",
       "      <td>2.39</td>\n",
       "      <td>5</td>\n",
       "      <td>0</td>\n",
       "      <td>Asheville</td>\n",
       "    </tr>\n",
       "    <tr>\n",
       "      <th>4</th>\n",
       "      <td>160594</td>\n",
       "      <td>Historic Grove Park</td>\n",
       "      <td>769252</td>\n",
       "      <td>Elizabeth</td>\n",
       "      <td>None</td>\n",
       "      <td>28801</td>\n",
       "      <td>35.61442</td>\n",
       "      <td>-82.54127</td>\n",
       "      <td>Private room</td>\n",
       "      <td>125</td>\n",
       "      <td>30</td>\n",
       "      <td>58</td>\n",
       "      <td>19/10/15</td>\n",
       "      <td>0.52</td>\n",
       "      <td>1</td>\n",
       "      <td>0</td>\n",
       "      <td>Asheville</td>\n",
       "    </tr>\n",
       "  </tbody>\n",
       "</table>\n",
       "</div>"
      ],
      "text/plain": [
       "       id                                               name host_id  \\\n",
       "0   38585    Charming Victorian home - twin beds + breakfast  165529   \n",
       "1   80905                                   French Chic Loft  427027   \n",
       "2  108061  Walk to stores/parks/downtown. Fenced yard/Pet...  320564   \n",
       "3  155305                 Cottage! BonPaul + Sharky's Hostel  746673   \n",
       "4  160594                                Historic Grove Park  769252   \n",
       "\n",
       "   host_name neighbourhood_group neighbourhood  latitude  longitude  \\\n",
       "0    Evelyne                None         28804  35.65146  -82.62792   \n",
       "1    Celeste                None         28801  35.59779  -82.55540   \n",
       "2       Lisa                None         28801  35.60670  -82.55563   \n",
       "3    BonPaul                None         28806  35.57864  -82.59578   \n",
       "4  Elizabeth                None         28801  35.61442  -82.54127   \n",
       "\n",
       "         room_type  price  minimum_nights  number_of_reviews last_review  \\\n",
       "0     Private room     60               1                138    16/02/20   \n",
       "1  Entire home/apt    470               1                114    7/9/2020   \n",
       "2  Entire home/apt     75              30                 89    30/11/19   \n",
       "3  Entire home/apt     90               1                267    22/09/20   \n",
       "4     Private room    125              30                 58    19/10/15   \n",
       "\n",
       "   reviews_per_month  calculated_host_listings_count  availability_365  \\\n",
       "0               1.14                               1                 0   \n",
       "1               1.03                              11               288   \n",
       "2               0.81                               2               298   \n",
       "3               2.39                               5                 0   \n",
       "4               0.52                               1                 0   \n",
       "\n",
       "        city  \n",
       "0  Asheville  \n",
       "1  Asheville  \n",
       "2  Asheville  \n",
       "3  Asheville  \n",
       "4  Asheville  "
      ]
     },
     "execution_count": 37,
     "metadata": {},
     "output_type": "execute_result"
    }
   ],
   "source": [
    "#make sure thats all I got rid of...\n",
    "df_bnb_3.head()"
   ]
  },
  {
   "cell_type": "code",
   "execution_count": 38,
   "id": "8da9640c",
   "metadata": {},
   "outputs": [],
   "source": [
    "#looks good!\n",
    "#now we just set the old to the new and get rid of number 3\n",
    "df_bnb=df_bnb_3\n",
    "del(df_bnb_3)"
   ]
  },
  {
   "cell_type": "markdown",
   "id": "64e791bc",
   "metadata": {},
   "source": [
    "# Final adjustments"
   ]
  },
  {
   "cell_type": "code",
   "execution_count": 39,
   "id": "e19ef68f",
   "metadata": {},
   "outputs": [],
   "source": [
    "#so now is the phase where I go through and clean up columns names if need be, or drop some I don't need or want to get rid of for privacy reasons\n",
    "#also any last second check I want to do"
   ]
  },
  {
   "cell_type": "code",
   "execution_count": 40,
   "id": "7a1fc984",
   "metadata": {},
   "outputs": [
    {
     "data": {
      "text/plain": [
       "Pokkyy                1\n",
       "Martez                1\n",
       "Neil And Corrie       1\n",
       "Mimsie                1\n",
       "Ima                   1\n",
       "                   ... \n",
       "Blueground         1172\n",
       "Zeus               1217\n",
       "John               1418\n",
       "David              1656\n",
       "Michael            2025\n",
       "Name: host_name, Length: 30531, dtype: int64"
      ]
     },
     "execution_count": 40,
     "metadata": {},
     "output_type": "execute_result"
    }
   ],
   "source": [
    "#for example, I'm curious if the host_id column has any repeats, as well as the name\n",
    "df_bnb['host_name'].value_counts(ascending=True)"
   ]
  },
  {
   "cell_type": "code",
   "execution_count": 41,
   "id": "11b2a26a",
   "metadata": {},
   "outputs": [
    {
     "data": {
      "text/plain": [
       "90165316        1\n",
       "202344661       1\n",
       "158587384       1\n",
       "11236598        1\n",
       "33442263        1\n",
       "             ... \n",
       "30283594      332\n",
       "8534462       582\n",
       "359036978     593\n",
       "107434423    1172\n",
       "48005494     1215\n",
       "Name: host_id, Length: 130400, dtype: int64"
      ]
     },
     "execution_count": 41,
     "metadata": {},
     "output_type": "execute_result"
    }
   ],
   "source": [
    "#ok so now we'll cheeck id's\n",
    "df_bnb['host_id'].value_counts(ascending=True)"
   ]
  },
  {
   "cell_type": "markdown",
   "id": "499629a0",
   "metadata": {},
   "source": [
    "### Dropping columns"
   ]
  },
  {
   "cell_type": "code",
   "execution_count": 42,
   "id": "d111d4dd",
   "metadata": {},
   "outputs": [],
   "source": [
    "#so an important thing to note here I think is the host_id is more than 4x the size of host_name\n",
    "#This suggests to me that somehow some hosts are getting more than one id.\n",
    "#I looked at the original csv for this real quick\n",
    "#So, Blueground for example has 1172 occurances, and just as many ids (107434423)\n",
    "#However Zues has 1217 occurances as has TWO ids (37244130(2 occurances) and 48005494 (1215 occurances))\n",
    "#It is very possible that it is simply a matter of Airbnb not requiring unique Usernames\n",
    "#All the more reason to drop it, honestly.\n",
    "#I'm going to drop the host_name\n",
    "df_bnb=df_bnb.drop(columns=['host_name'])"
   ]
  },
  {
   "cell_type": "markdown",
   "id": "5be07b6e",
   "metadata": {},
   "source": [
    "### Renaming Columns"
   ]
  },
  {
   "cell_type": "code",
   "execution_count": 43,
   "id": "a8716f64",
   "metadata": {},
   "outputs": [],
   "source": [
    "#I am also going to change id and name to listing_id and listing_name to better represent what they are\n",
    "df_bnb=df_bnb.rename(columns={'id':'listing_id','name':'listing_name'})"
   ]
  },
  {
   "cell_type": "code",
   "execution_count": 44,
   "id": "e57a70b6",
   "metadata": {
    "scrolled": true
   },
   "outputs": [
    {
     "data": {
      "text/plain": [
       "Index(['listing_id', 'listing_name', 'host_id', 'neighbourhood_group',\n",
       "       'neighbourhood', 'latitude', 'longitude', 'room_type', 'price',\n",
       "       'minimum_nights', 'number_of_reviews', 'last_review',\n",
       "       'reviews_per_month', 'calculated_host_listings_count',\n",
       "       'availability_365', 'city'],\n",
       "      dtype='object')"
      ]
     },
     "execution_count": 44,
     "metadata": {},
     "output_type": "execute_result"
    }
   ],
   "source": [
    "df_bnb.columns"
   ]
  },
  {
   "cell_type": "markdown",
   "id": "1fea42e0",
   "metadata": {},
   "source": [
    "### Rearranging Columns"
   ]
  },
  {
   "cell_type": "code",
   "execution_count": 45,
   "id": "c5ee3ad8",
   "metadata": {},
   "outputs": [],
   "source": [
    "#one last thing is that I don't like having city all the way at the end of the frame so we'll put that between longitude and room_type\n",
    "df_bnb=df_bnb[['listing_id', 'listing_name', 'host_id', 'neighbourhood_group', 'neighbourhood',\n",
    "               'latitude', 'longitude', 'city', 'room_type', 'price', 'minimum_nights','number_of_reviews',\n",
    "               'last_review', 'reviews_per_month','calculated_host_listings_count', 'availability_365']]"
   ]
  },
  {
   "cell_type": "code",
   "execution_count": 46,
   "id": "3cbaf49f",
   "metadata": {},
   "outputs": [
    {
     "data": {
      "text/html": [
       "<div>\n",
       "<style scoped>\n",
       "    .dataframe tbody tr th:only-of-type {\n",
       "        vertical-align: middle;\n",
       "    }\n",
       "\n",
       "    .dataframe tbody tr th {\n",
       "        vertical-align: top;\n",
       "    }\n",
       "\n",
       "    .dataframe thead th {\n",
       "        text-align: right;\n",
       "    }\n",
       "</style>\n",
       "<table border=\"1\" class=\"dataframe\">\n",
       "  <thead>\n",
       "    <tr style=\"text-align: right;\">\n",
       "      <th></th>\n",
       "      <th>listing_id</th>\n",
       "      <th>listing_name</th>\n",
       "      <th>host_id</th>\n",
       "      <th>neighbourhood_group</th>\n",
       "      <th>neighbourhood</th>\n",
       "      <th>latitude</th>\n",
       "      <th>longitude</th>\n",
       "      <th>city</th>\n",
       "      <th>room_type</th>\n",
       "      <th>price</th>\n",
       "      <th>minimum_nights</th>\n",
       "      <th>number_of_reviews</th>\n",
       "      <th>last_review</th>\n",
       "      <th>reviews_per_month</th>\n",
       "      <th>calculated_host_listings_count</th>\n",
       "      <th>availability_365</th>\n",
       "    </tr>\n",
       "  </thead>\n",
       "  <tbody>\n",
       "    <tr>\n",
       "      <th>0</th>\n",
       "      <td>38585</td>\n",
       "      <td>Charming Victorian home - twin beds + breakfast</td>\n",
       "      <td>165529</td>\n",
       "      <td>None</td>\n",
       "      <td>28804</td>\n",
       "      <td>35.65146</td>\n",
       "      <td>-82.62792</td>\n",
       "      <td>Asheville</td>\n",
       "      <td>Private room</td>\n",
       "      <td>60</td>\n",
       "      <td>1</td>\n",
       "      <td>138</td>\n",
       "      <td>16/02/20</td>\n",
       "      <td>1.14</td>\n",
       "      <td>1</td>\n",
       "      <td>0</td>\n",
       "    </tr>\n",
       "    <tr>\n",
       "      <th>1</th>\n",
       "      <td>80905</td>\n",
       "      <td>French Chic Loft</td>\n",
       "      <td>427027</td>\n",
       "      <td>None</td>\n",
       "      <td>28801</td>\n",
       "      <td>35.59779</td>\n",
       "      <td>-82.55540</td>\n",
       "      <td>Asheville</td>\n",
       "      <td>Entire home/apt</td>\n",
       "      <td>470</td>\n",
       "      <td>1</td>\n",
       "      <td>114</td>\n",
       "      <td>7/9/2020</td>\n",
       "      <td>1.03</td>\n",
       "      <td>11</td>\n",
       "      <td>288</td>\n",
       "    </tr>\n",
       "    <tr>\n",
       "      <th>2</th>\n",
       "      <td>108061</td>\n",
       "      <td>Walk to stores/parks/downtown. Fenced yard/Pet...</td>\n",
       "      <td>320564</td>\n",
       "      <td>None</td>\n",
       "      <td>28801</td>\n",
       "      <td>35.60670</td>\n",
       "      <td>-82.55563</td>\n",
       "      <td>Asheville</td>\n",
       "      <td>Entire home/apt</td>\n",
       "      <td>75</td>\n",
       "      <td>30</td>\n",
       "      <td>89</td>\n",
       "      <td>30/11/19</td>\n",
       "      <td>0.81</td>\n",
       "      <td>2</td>\n",
       "      <td>298</td>\n",
       "    </tr>\n",
       "    <tr>\n",
       "      <th>3</th>\n",
       "      <td>155305</td>\n",
       "      <td>Cottage! BonPaul + Sharky's Hostel</td>\n",
       "      <td>746673</td>\n",
       "      <td>None</td>\n",
       "      <td>28806</td>\n",
       "      <td>35.57864</td>\n",
       "      <td>-82.59578</td>\n",
       "      <td>Asheville</td>\n",
       "      <td>Entire home/apt</td>\n",
       "      <td>90</td>\n",
       "      <td>1</td>\n",
       "      <td>267</td>\n",
       "      <td>22/09/20</td>\n",
       "      <td>2.39</td>\n",
       "      <td>5</td>\n",
       "      <td>0</td>\n",
       "    </tr>\n",
       "    <tr>\n",
       "      <th>4</th>\n",
       "      <td>160594</td>\n",
       "      <td>Historic Grove Park</td>\n",
       "      <td>769252</td>\n",
       "      <td>None</td>\n",
       "      <td>28801</td>\n",
       "      <td>35.61442</td>\n",
       "      <td>-82.54127</td>\n",
       "      <td>Asheville</td>\n",
       "      <td>Private room</td>\n",
       "      <td>125</td>\n",
       "      <td>30</td>\n",
       "      <td>58</td>\n",
       "      <td>19/10/15</td>\n",
       "      <td>0.52</td>\n",
       "      <td>1</td>\n",
       "      <td>0</td>\n",
       "    </tr>\n",
       "  </tbody>\n",
       "</table>\n",
       "</div>"
      ],
      "text/plain": [
       "  listing_id                                       listing_name host_id  \\\n",
       "0      38585    Charming Victorian home - twin beds + breakfast  165529   \n",
       "1      80905                                   French Chic Loft  427027   \n",
       "2     108061  Walk to stores/parks/downtown. Fenced yard/Pet...  320564   \n",
       "3     155305                 Cottage! BonPaul + Sharky's Hostel  746673   \n",
       "4     160594                                Historic Grove Park  769252   \n",
       "\n",
       "  neighbourhood_group neighbourhood  latitude  longitude       city  \\\n",
       "0                None         28804  35.65146  -82.62792  Asheville   \n",
       "1                None         28801  35.59779  -82.55540  Asheville   \n",
       "2                None         28801  35.60670  -82.55563  Asheville   \n",
       "3                None         28806  35.57864  -82.59578  Asheville   \n",
       "4                None         28801  35.61442  -82.54127  Asheville   \n",
       "\n",
       "         room_type  price  minimum_nights  number_of_reviews last_review  \\\n",
       "0     Private room     60               1                138    16/02/20   \n",
       "1  Entire home/apt    470               1                114    7/9/2020   \n",
       "2  Entire home/apt     75              30                 89    30/11/19   \n",
       "3  Entire home/apt     90               1                267    22/09/20   \n",
       "4     Private room    125              30                 58    19/10/15   \n",
       "\n",
       "   reviews_per_month  calculated_host_listings_count  availability_365  \n",
       "0               1.14                               1                 0  \n",
       "1               1.03                              11               288  \n",
       "2               0.81                               2               298  \n",
       "3               2.39                               5                 0  \n",
       "4               0.52                               1                 0  "
      ]
     },
     "execution_count": 46,
     "metadata": {},
     "output_type": "execute_result"
    }
   ],
   "source": [
    "#ok let's take a look at what we've got\n",
    "df_bnb.head()"
   ]
  },
  {
   "cell_type": "markdown",
   "id": "f5016443",
   "metadata": {},
   "source": [
    "# Exporting"
   ]
  },
  {
   "cell_type": "code",
   "execution_count": 47,
   "id": "c235b746",
   "metadata": {},
   "outputs": [],
   "source": [
    "#OK, so now we'll go ahead and export it. We'll do it as a pickle for the sake of space and speed later on\n",
    "df_bnb.to_pickle(os.path.join(path,'02 Altered','us_airbnb_2020_clean.pkl'))"
   ]
  },
  {
   "cell_type": "code",
   "execution_count": 48,
   "id": "93848b71",
   "metadata": {},
   "outputs": [
    {
     "data": {
      "text/plain": [
       "(226000, 16)"
      ]
     },
     "execution_count": 48,
     "metadata": {},
     "output_type": "execute_result"
    }
   ],
   "source": [
    "df_bnb.shape"
   ]
  },
  {
   "cell_type": "code",
   "execution_count": 49,
   "id": "f33a3634",
   "metadata": {},
   "outputs": [
    {
     "data": {
      "text/html": [
       "<div>\n",
       "<style scoped>\n",
       "    .dataframe tbody tr th:only-of-type {\n",
       "        vertical-align: middle;\n",
       "    }\n",
       "\n",
       "    .dataframe tbody tr th {\n",
       "        vertical-align: top;\n",
       "    }\n",
       "\n",
       "    .dataframe thead th {\n",
       "        text-align: right;\n",
       "    }\n",
       "</style>\n",
       "<table border=\"1\" class=\"dataframe\">\n",
       "  <thead>\n",
       "    <tr style=\"text-align: right;\">\n",
       "      <th></th>\n",
       "      <th>latitude</th>\n",
       "      <th>longitude</th>\n",
       "      <th>price</th>\n",
       "      <th>minimum_nights</th>\n",
       "      <th>number_of_reviews</th>\n",
       "      <th>reviews_per_month</th>\n",
       "      <th>calculated_host_listings_count</th>\n",
       "      <th>availability_365</th>\n",
       "    </tr>\n",
       "  </thead>\n",
       "  <tbody>\n",
       "    <tr>\n",
       "      <th>count</th>\n",
       "      <td>226000.000000</td>\n",
       "      <td>226000.000000</td>\n",
       "      <td>226000.000000</td>\n",
       "      <td>226000.000000</td>\n",
       "      <td>226000.000000</td>\n",
       "      <td>226000.000000</td>\n",
       "      <td>226000.000000</td>\n",
       "      <td>226000.000000</td>\n",
       "    </tr>\n",
       "    <tr>\n",
       "      <th>mean</th>\n",
       "      <td>35.662211</td>\n",
       "      <td>-103.223271</td>\n",
       "      <td>219.720097</td>\n",
       "      <td>10.126389</td>\n",
       "      <td>34.510748</td>\n",
       "      <td>1.123784</td>\n",
       "      <td>16.700611</td>\n",
       "      <td>159.325208</td>\n",
       "    </tr>\n",
       "    <tr>\n",
       "      <th>std</th>\n",
       "      <td>6.849969</td>\n",
       "      <td>26.222200</td>\n",
       "      <td>570.387886</td>\n",
       "      <td>25.166666</td>\n",
       "      <td>63.606045</td>\n",
       "      <td>1.603133</td>\n",
       "      <td>51.072045</td>\n",
       "      <td>140.177433</td>\n",
       "    </tr>\n",
       "    <tr>\n",
       "      <th>min</th>\n",
       "      <td>18.920990</td>\n",
       "      <td>-159.714900</td>\n",
       "      <td>0.000000</td>\n",
       "      <td>1.000000</td>\n",
       "      <td>0.000000</td>\n",
       "      <td>0.000000</td>\n",
       "      <td>1.000000</td>\n",
       "      <td>0.000000</td>\n",
       "    </tr>\n",
       "    <tr>\n",
       "      <th>25%</th>\n",
       "      <td>32.761760</td>\n",
       "      <td>-118.598353</td>\n",
       "      <td>75.000000</td>\n",
       "      <td>1.000000</td>\n",
       "      <td>1.000000</td>\n",
       "      <td>0.040000</td>\n",
       "      <td>1.000000</td>\n",
       "      <td>0.000000</td>\n",
       "    </tr>\n",
       "    <tr>\n",
       "      <th>50%</th>\n",
       "      <td>37.259800</td>\n",
       "      <td>-97.817995</td>\n",
       "      <td>121.000000</td>\n",
       "      <td>2.000000</td>\n",
       "      <td>8.000000</td>\n",
       "      <td>0.420000</td>\n",
       "      <td>2.000000</td>\n",
       "      <td>140.000000</td>\n",
       "    </tr>\n",
       "    <tr>\n",
       "      <th>75%</th>\n",
       "      <td>40.724030</td>\n",
       "      <td>-76.922865</td>\n",
       "      <td>201.000000</td>\n",
       "      <td>7.000000</td>\n",
       "      <td>39.000000</td>\n",
       "      <td>1.620000</td>\n",
       "      <td>6.000000</td>\n",
       "      <td>311.000000</td>\n",
       "    </tr>\n",
       "    <tr>\n",
       "      <th>max</th>\n",
       "      <td>47.734620</td>\n",
       "      <td>-70.995950</td>\n",
       "      <td>24999.000000</td>\n",
       "      <td>1250.000000</td>\n",
       "      <td>966.000000</td>\n",
       "      <td>44.060000</td>\n",
       "      <td>593.000000</td>\n",
       "      <td>365.000000</td>\n",
       "    </tr>\n",
       "  </tbody>\n",
       "</table>\n",
       "</div>"
      ],
      "text/plain": [
       "            latitude      longitude          price  minimum_nights  \\\n",
       "count  226000.000000  226000.000000  226000.000000   226000.000000   \n",
       "mean       35.662211    -103.223271     219.720097       10.126389   \n",
       "std         6.849969      26.222200     570.387886       25.166666   \n",
       "min        18.920990    -159.714900       0.000000        1.000000   \n",
       "25%        32.761760    -118.598353      75.000000        1.000000   \n",
       "50%        37.259800     -97.817995     121.000000        2.000000   \n",
       "75%        40.724030     -76.922865     201.000000        7.000000   \n",
       "max        47.734620     -70.995950   24999.000000     1250.000000   \n",
       "\n",
       "       number_of_reviews  reviews_per_month  calculated_host_listings_count  \\\n",
       "count      226000.000000      226000.000000                   226000.000000   \n",
       "mean           34.510748           1.123784                       16.700611   \n",
       "std            63.606045           1.603133                       51.072045   \n",
       "min             0.000000           0.000000                        1.000000   \n",
       "25%             1.000000           0.040000                        1.000000   \n",
       "50%             8.000000           0.420000                        2.000000   \n",
       "75%            39.000000           1.620000                        6.000000   \n",
       "max           966.000000          44.060000                      593.000000   \n",
       "\n",
       "       availability_365  \n",
       "count     226000.000000  \n",
       "mean         159.325208  \n",
       "std          140.177433  \n",
       "min            0.000000  \n",
       "25%            0.000000  \n",
       "50%          140.000000  \n",
       "75%          311.000000  \n",
       "max          365.000000  "
      ]
     },
     "execution_count": 49,
     "metadata": {},
     "output_type": "execute_result"
    }
   ],
   "source": [
    "df_bnb.describe()"
   ]
  },
  {
   "cell_type": "code",
   "execution_count": 50,
   "id": "6ff4b879",
   "metadata": {},
   "outputs": [
    {
     "name": "stdout",
     "output_type": "stream",
     "text": [
      "<class 'pandas.core.frame.DataFrame'>\n",
      "Int64Index: 226000 entries, 0 to 226028\n",
      "Data columns (total 16 columns):\n",
      " #   Column                          Non-Null Count   Dtype  \n",
      "---  ------                          --------------   -----  \n",
      " 0   listing_id                      226000 non-null  object \n",
      " 1   listing_name                    226000 non-null  object \n",
      " 2   host_id                         226000 non-null  object \n",
      " 3   neighbourhood_group             226000 non-null  object \n",
      " 4   neighbourhood                   226000 non-null  object \n",
      " 5   latitude                        226000 non-null  float64\n",
      " 6   longitude                       226000 non-null  float64\n",
      " 7   city                            226000 non-null  object \n",
      " 8   room_type                       226000 non-null  object \n",
      " 9   price                           226000 non-null  int64  \n",
      " 10  minimum_nights                  226000 non-null  int64  \n",
      " 11  number_of_reviews               226000 non-null  int64  \n",
      " 12  last_review                     226000 non-null  object \n",
      " 13  reviews_per_month               226000 non-null  float64\n",
      " 14  calculated_host_listings_count  226000 non-null  int64  \n",
      " 15  availability_365                226000 non-null  int64  \n",
      "dtypes: float64(3), int64(5), object(8)\n",
      "memory usage: 29.3+ MB\n"
     ]
    }
   ],
   "source": [
    "df_bnb.info()"
   ]
  }
 ],
 "metadata": {
  "kernelspec": {
   "display_name": "Python 3",
   "language": "python",
   "name": "python3"
  },
  "language_info": {
   "codemirror_mode": {
    "name": "ipython",
    "version": 3
   },
   "file_extension": ".py",
   "mimetype": "text/x-python",
   "name": "python",
   "nbconvert_exporter": "python",
   "pygments_lexer": "ipython3",
   "version": "3.8.8"
  }
 },
 "nbformat": 4,
 "nbformat_minor": 5
}
