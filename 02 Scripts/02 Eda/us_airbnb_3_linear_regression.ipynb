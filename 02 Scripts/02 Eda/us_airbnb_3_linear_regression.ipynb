{
 "cells": [
  {
   "cell_type": "markdown",
   "id": "c5a118c2",
   "metadata": {},
   "source": [
    "# Importing Important Imports"
   ]
  },
  {
   "cell_type": "code",
   "execution_count": 1,
   "id": "81dbb67c",
   "metadata": {},
   "outputs": [],
   "source": [
    "import pandas as pd\n",
    "import numpy as np\n",
    "import seaborn as sns\n",
    "import matplotlib\n",
    "import matplotlib.pyplot as plt\n",
    "import os\n",
    "import sklearn\n",
    "from sklearn.model_selection import train_test_split \n",
    "from sklearn.linear_model import LinearRegression\n",
    "from sklearn.metrics import mean_squared_error, r2_score"
   ]
  },
  {
   "cell_type": "code",
   "execution_count": 2,
   "id": "57c23847",
   "metadata": {},
   "outputs": [],
   "source": [
    "#view without calling. A nice little shortcut\n",
    "%matplotlib inline"
   ]
  },
  {
   "cell_type": "code",
   "execution_count": 3,
   "id": "a3f4246f",
   "metadata": {},
   "outputs": [],
   "source": [
    "#as always, we need a pathway to the data\n",
    "path=r'C:\\Users\\evras\\Desktop\\Project A6\\01 Data'"
   ]
  },
  {
   "cell_type": "code",
   "execution_count": 4,
   "id": "5effca5f",
   "metadata": {},
   "outputs": [],
   "source": [
    "#we're bringing in the version with states attatched just because it's the most recent version of the file\n",
    "df_bnb=pd.read_pickle(os.path.join(path,'02 Altered','us_airbnb_2_states.pkl'))"
   ]
  },
  {
   "cell_type": "code",
   "execution_count": 50,
   "id": "93f18ab4",
   "metadata": {},
   "outputs": [
    {
     "data": {
      "text/plain": [
       "(226000, 17)"
      ]
     },
     "execution_count": 50,
     "metadata": {},
     "output_type": "execute_result"
    }
   ],
   "source": [
    "df_bnb.shape"
   ]
  },
  {
   "cell_type": "code",
   "execution_count": 51,
   "id": "4dce465b",
   "metadata": {},
   "outputs": [
    {
     "data": {
      "text/html": [
       "<div>\n",
       "<style scoped>\n",
       "    .dataframe tbody tr th:only-of-type {\n",
       "        vertical-align: middle;\n",
       "    }\n",
       "\n",
       "    .dataframe tbody tr th {\n",
       "        vertical-align: top;\n",
       "    }\n",
       "\n",
       "    .dataframe thead th {\n",
       "        text-align: right;\n",
       "    }\n",
       "</style>\n",
       "<table border=\"1\" class=\"dataframe\">\n",
       "  <thead>\n",
       "    <tr style=\"text-align: right;\">\n",
       "      <th></th>\n",
       "      <th>listing_id</th>\n",
       "      <th>listing_name</th>\n",
       "      <th>host_id</th>\n",
       "      <th>neighbourhood_group</th>\n",
       "      <th>neighbourhood</th>\n",
       "      <th>latitude</th>\n",
       "      <th>longitude</th>\n",
       "      <th>city</th>\n",
       "      <th>state</th>\n",
       "      <th>room_type</th>\n",
       "      <th>price</th>\n",
       "      <th>minimum_nights</th>\n",
       "      <th>number_of_reviews</th>\n",
       "      <th>last_review</th>\n",
       "      <th>reviews_per_month</th>\n",
       "      <th>host_listing_count</th>\n",
       "      <th>availability_365</th>\n",
       "    </tr>\n",
       "  </thead>\n",
       "  <tbody>\n",
       "    <tr>\n",
       "      <th>0</th>\n",
       "      <td>38585</td>\n",
       "      <td>Charming Victorian home - twin beds + breakfast</td>\n",
       "      <td>165529</td>\n",
       "      <td>None</td>\n",
       "      <td>28804</td>\n",
       "      <td>35.65146</td>\n",
       "      <td>-82.62792</td>\n",
       "      <td>Asheville</td>\n",
       "      <td>North Carolina</td>\n",
       "      <td>Private room</td>\n",
       "      <td>60</td>\n",
       "      <td>1</td>\n",
       "      <td>138</td>\n",
       "      <td>16/02/20</td>\n",
       "      <td>1.14</td>\n",
       "      <td>1</td>\n",
       "      <td>0</td>\n",
       "    </tr>\n",
       "    <tr>\n",
       "      <th>1</th>\n",
       "      <td>80905</td>\n",
       "      <td>French Chic Loft</td>\n",
       "      <td>427027</td>\n",
       "      <td>None</td>\n",
       "      <td>28801</td>\n",
       "      <td>35.59779</td>\n",
       "      <td>-82.55540</td>\n",
       "      <td>Asheville</td>\n",
       "      <td>North Carolina</td>\n",
       "      <td>Entire home/apt</td>\n",
       "      <td>470</td>\n",
       "      <td>1</td>\n",
       "      <td>114</td>\n",
       "      <td>7/9/2020</td>\n",
       "      <td>1.03</td>\n",
       "      <td>11</td>\n",
       "      <td>288</td>\n",
       "    </tr>\n",
       "    <tr>\n",
       "      <th>2</th>\n",
       "      <td>108061</td>\n",
       "      <td>Walk to stores/parks/downtown. Fenced yard/Pet...</td>\n",
       "      <td>320564</td>\n",
       "      <td>None</td>\n",
       "      <td>28801</td>\n",
       "      <td>35.60670</td>\n",
       "      <td>-82.55563</td>\n",
       "      <td>Asheville</td>\n",
       "      <td>North Carolina</td>\n",
       "      <td>Entire home/apt</td>\n",
       "      <td>75</td>\n",
       "      <td>30</td>\n",
       "      <td>89</td>\n",
       "      <td>30/11/19</td>\n",
       "      <td>0.81</td>\n",
       "      <td>2</td>\n",
       "      <td>298</td>\n",
       "    </tr>\n",
       "    <tr>\n",
       "      <th>3</th>\n",
       "      <td>155305</td>\n",
       "      <td>Cottage! BonPaul + Sharky's Hostel</td>\n",
       "      <td>746673</td>\n",
       "      <td>None</td>\n",
       "      <td>28806</td>\n",
       "      <td>35.57864</td>\n",
       "      <td>-82.59578</td>\n",
       "      <td>Asheville</td>\n",
       "      <td>North Carolina</td>\n",
       "      <td>Entire home/apt</td>\n",
       "      <td>90</td>\n",
       "      <td>1</td>\n",
       "      <td>267</td>\n",
       "      <td>22/09/20</td>\n",
       "      <td>2.39</td>\n",
       "      <td>5</td>\n",
       "      <td>0</td>\n",
       "    </tr>\n",
       "    <tr>\n",
       "      <th>4</th>\n",
       "      <td>160594</td>\n",
       "      <td>Historic Grove Park</td>\n",
       "      <td>769252</td>\n",
       "      <td>None</td>\n",
       "      <td>28801</td>\n",
       "      <td>35.61442</td>\n",
       "      <td>-82.54127</td>\n",
       "      <td>Asheville</td>\n",
       "      <td>North Carolina</td>\n",
       "      <td>Private room</td>\n",
       "      <td>125</td>\n",
       "      <td>30</td>\n",
       "      <td>58</td>\n",
       "      <td>19/10/15</td>\n",
       "      <td>0.52</td>\n",
       "      <td>1</td>\n",
       "      <td>0</td>\n",
       "    </tr>\n",
       "  </tbody>\n",
       "</table>\n",
       "</div>"
      ],
      "text/plain": [
       "  listing_id                                       listing_name host_id  \\\n",
       "0      38585    Charming Victorian home - twin beds + breakfast  165529   \n",
       "1      80905                                   French Chic Loft  427027   \n",
       "2     108061  Walk to stores/parks/downtown. Fenced yard/Pet...  320564   \n",
       "3     155305                 Cottage! BonPaul + Sharky's Hostel  746673   \n",
       "4     160594                                Historic Grove Park  769252   \n",
       "\n",
       "  neighbourhood_group neighbourhood  latitude  longitude       city  \\\n",
       "0                None         28804  35.65146  -82.62792  Asheville   \n",
       "1                None         28801  35.59779  -82.55540  Asheville   \n",
       "2                None         28801  35.60670  -82.55563  Asheville   \n",
       "3                None         28806  35.57864  -82.59578  Asheville   \n",
       "4                None         28801  35.61442  -82.54127  Asheville   \n",
       "\n",
       "            state        room_type  price  minimum_nights  number_of_reviews  \\\n",
       "0  North Carolina     Private room     60               1                138   \n",
       "1  North Carolina  Entire home/apt    470               1                114   \n",
       "2  North Carolina  Entire home/apt     75              30                 89   \n",
       "3  North Carolina  Entire home/apt     90               1                267   \n",
       "4  North Carolina     Private room    125              30                 58   \n",
       "\n",
       "  last_review  reviews_per_month  host_listing_count  availability_365  \n",
       "0    16/02/20               1.14                   1                 0  \n",
       "1    7/9/2020               1.03                  11               288  \n",
       "2    30/11/19               0.81                   2               298  \n",
       "3    22/09/20               2.39                   5                 0  \n",
       "4    19/10/15               0.52                   1                 0  "
      ]
     },
     "execution_count": 51,
     "metadata": {},
     "output_type": "execute_result"
    }
   ],
   "source": [
    "df_bnb.head()"
   ]
  },
  {
   "cell_type": "code",
   "execution_count": 52,
   "id": "ea390837",
   "metadata": {},
   "outputs": [
    {
     "data": {
      "text/html": [
       "<div>\n",
       "<style scoped>\n",
       "    .dataframe tbody tr th:only-of-type {\n",
       "        vertical-align: middle;\n",
       "    }\n",
       "\n",
       "    .dataframe tbody tr th {\n",
       "        vertical-align: top;\n",
       "    }\n",
       "\n",
       "    .dataframe thead th {\n",
       "        text-align: right;\n",
       "    }\n",
       "</style>\n",
       "<table border=\"1\" class=\"dataframe\">\n",
       "  <thead>\n",
       "    <tr style=\"text-align: right;\">\n",
       "      <th></th>\n",
       "      <th>latitude</th>\n",
       "      <th>longitude</th>\n",
       "      <th>price</th>\n",
       "      <th>minimum_nights</th>\n",
       "      <th>number_of_reviews</th>\n",
       "      <th>reviews_per_month</th>\n",
       "      <th>host_listing_count</th>\n",
       "      <th>availability_365</th>\n",
       "    </tr>\n",
       "  </thead>\n",
       "  <tbody>\n",
       "    <tr>\n",
       "      <th>count</th>\n",
       "      <td>226000.000000</td>\n",
       "      <td>226000.000000</td>\n",
       "      <td>226000.000000</td>\n",
       "      <td>226000.000000</td>\n",
       "      <td>226000.000000</td>\n",
       "      <td>226000.000000</td>\n",
       "      <td>226000.000000</td>\n",
       "      <td>226000.000000</td>\n",
       "    </tr>\n",
       "    <tr>\n",
       "      <th>mean</th>\n",
       "      <td>35.662211</td>\n",
       "      <td>-103.223271</td>\n",
       "      <td>219.720097</td>\n",
       "      <td>10.126389</td>\n",
       "      <td>34.510748</td>\n",
       "      <td>1.123784</td>\n",
       "      <td>16.700611</td>\n",
       "      <td>159.325208</td>\n",
       "    </tr>\n",
       "    <tr>\n",
       "      <th>std</th>\n",
       "      <td>6.849969</td>\n",
       "      <td>26.222200</td>\n",
       "      <td>570.387886</td>\n",
       "      <td>25.166666</td>\n",
       "      <td>63.606045</td>\n",
       "      <td>1.603133</td>\n",
       "      <td>51.072045</td>\n",
       "      <td>140.177433</td>\n",
       "    </tr>\n",
       "    <tr>\n",
       "      <th>min</th>\n",
       "      <td>18.920990</td>\n",
       "      <td>-159.714900</td>\n",
       "      <td>0.000000</td>\n",
       "      <td>1.000000</td>\n",
       "      <td>0.000000</td>\n",
       "      <td>0.000000</td>\n",
       "      <td>1.000000</td>\n",
       "      <td>0.000000</td>\n",
       "    </tr>\n",
       "    <tr>\n",
       "      <th>25%</th>\n",
       "      <td>32.761760</td>\n",
       "      <td>-118.598353</td>\n",
       "      <td>75.000000</td>\n",
       "      <td>1.000000</td>\n",
       "      <td>1.000000</td>\n",
       "      <td>0.040000</td>\n",
       "      <td>1.000000</td>\n",
       "      <td>0.000000</td>\n",
       "    </tr>\n",
       "    <tr>\n",
       "      <th>50%</th>\n",
       "      <td>37.259800</td>\n",
       "      <td>-97.817995</td>\n",
       "      <td>121.000000</td>\n",
       "      <td>2.000000</td>\n",
       "      <td>8.000000</td>\n",
       "      <td>0.420000</td>\n",
       "      <td>2.000000</td>\n",
       "      <td>140.000000</td>\n",
       "    </tr>\n",
       "    <tr>\n",
       "      <th>75%</th>\n",
       "      <td>40.724030</td>\n",
       "      <td>-76.922865</td>\n",
       "      <td>201.000000</td>\n",
       "      <td>7.000000</td>\n",
       "      <td>39.000000</td>\n",
       "      <td>1.620000</td>\n",
       "      <td>6.000000</td>\n",
       "      <td>311.000000</td>\n",
       "    </tr>\n",
       "    <tr>\n",
       "      <th>max</th>\n",
       "      <td>47.734620</td>\n",
       "      <td>-70.995950</td>\n",
       "      <td>24999.000000</td>\n",
       "      <td>1250.000000</td>\n",
       "      <td>966.000000</td>\n",
       "      <td>44.060000</td>\n",
       "      <td>593.000000</td>\n",
       "      <td>365.000000</td>\n",
       "    </tr>\n",
       "  </tbody>\n",
       "</table>\n",
       "</div>"
      ],
      "text/plain": [
       "            latitude      longitude          price  minimum_nights  \\\n",
       "count  226000.000000  226000.000000  226000.000000   226000.000000   \n",
       "mean       35.662211    -103.223271     219.720097       10.126389   \n",
       "std         6.849969      26.222200     570.387886       25.166666   \n",
       "min        18.920990    -159.714900       0.000000        1.000000   \n",
       "25%        32.761760    -118.598353      75.000000        1.000000   \n",
       "50%        37.259800     -97.817995     121.000000        2.000000   \n",
       "75%        40.724030     -76.922865     201.000000        7.000000   \n",
       "max        47.734620     -70.995950   24999.000000     1250.000000   \n",
       "\n",
       "       number_of_reviews  reviews_per_month  host_listing_count  \\\n",
       "count      226000.000000      226000.000000       226000.000000   \n",
       "mean           34.510748           1.123784           16.700611   \n",
       "std            63.606045           1.603133           51.072045   \n",
       "min             0.000000           0.000000            1.000000   \n",
       "25%             1.000000           0.040000            1.000000   \n",
       "50%             8.000000           0.420000            2.000000   \n",
       "75%            39.000000           1.620000            6.000000   \n",
       "max           966.000000          44.060000          593.000000   \n",
       "\n",
       "       availability_365  \n",
       "count     226000.000000  \n",
       "mean         159.325208  \n",
       "std          140.177433  \n",
       "min            0.000000  \n",
       "25%            0.000000  \n",
       "50%          140.000000  \n",
       "75%          311.000000  \n",
       "max          365.000000  "
      ]
     },
     "execution_count": 52,
     "metadata": {},
     "output_type": "execute_result"
    }
   ],
   "source": [
    "df_bnb.describe()"
   ]
  },
  {
   "cell_type": "markdown",
   "id": "1b6be9dc",
   "metadata": {},
   "source": [
    "# Cleaning"
   ]
  },
  {
   "cell_type": "code",
   "execution_count": 5,
   "id": "2323ee71",
   "metadata": {},
   "outputs": [
    {
     "data": {
      "text/plain": [
       "listing_id                        0\n",
       "listing_name                      0\n",
       "host_id                           0\n",
       "neighbourhood_group               0\n",
       "neighbourhood                     0\n",
       "latitude                          0\n",
       "longitude                         0\n",
       "city                              0\n",
       "room_type                         0\n",
       "price                             0\n",
       "minimum_nights                    0\n",
       "number_of_reviews                 0\n",
       "last_review                       0\n",
       "reviews_per_month                 0\n",
       "calculated_host_listings_count    0\n",
       "availability_365                  0\n",
       "state                             0\n",
       "dtype: int64"
      ]
     },
     "execution_count": 5,
     "metadata": {},
     "output_type": "execute_result"
    }
   ],
   "source": [
    "#should be fine here, but just in case we'll do the usual bits.\n",
    "df_bnb.isnull().sum()"
   ]
  },
  {
   "cell_type": "code",
   "execution_count": 7,
   "id": "a860d1d9",
   "metadata": {},
   "outputs": [
    {
     "name": "stdout",
     "output_type": "stream",
     "text": [
      "<class 'pandas.core.frame.DataFrame'>\n",
      "Int64Index: 226000 entries, 0 to 226028\n",
      "Data columns (total 17 columns):\n",
      " #   Column                          Non-Null Count   Dtype  \n",
      "---  ------                          --------------   -----  \n",
      " 0   listing_id                      226000 non-null  object \n",
      " 1   listing_name                    226000 non-null  object \n",
      " 2   host_id                         226000 non-null  object \n",
      " 3   neighbourhood_group             226000 non-null  object \n",
      " 4   neighbourhood                   226000 non-null  object \n",
      " 5   latitude                        226000 non-null  float64\n",
      " 6   longitude                       226000 non-null  float64\n",
      " 7   city                            226000 non-null  object \n",
      " 8   room_type                       226000 non-null  object \n",
      " 9   price                           226000 non-null  int64  \n",
      " 10  minimum_nights                  226000 non-null  int64  \n",
      " 11  number_of_reviews               226000 non-null  int64  \n",
      " 12  last_review                     226000 non-null  object \n",
      " 13  reviews_per_month               226000 non-null  float64\n",
      " 14  calculated_host_listings_count  226000 non-null  int64  \n",
      " 15  availability_365                226000 non-null  int64  \n",
      " 16  state                           226000 non-null  object \n",
      "dtypes: float64(3), int64(5), object(9)\n",
      "memory usage: 31.0+ MB\n"
     ]
    }
   ],
   "source": [
    "#a thing of beauty.\n",
    "#next up...\n",
    "df_bnb.info()"
   ]
  },
  {
   "cell_type": "code",
   "execution_count": 8,
   "id": "f81431e1",
   "metadata": {},
   "outputs": [
    {
     "data": {
      "text/plain": [
       "Index(['listing_id', 'listing_name', 'host_id', 'neighbourhood_group',\n",
       "       'neighbourhood', 'latitude', 'longitude', 'city', 'room_type', 'price',\n",
       "       'minimum_nights', 'number_of_reviews', 'last_review',\n",
       "       'reviews_per_month', 'calculated_host_listings_count',\n",
       "       'availability_365', 'state'],\n",
       "      dtype='object')"
      ]
     },
     "execution_count": 8,
     "metadata": {},
     "output_type": "execute_result"
    }
   ],
   "source": [
    "#oh right, let's move state and then move onto the analysis.\n",
    "df_bnb.columns"
   ]
  },
  {
   "cell_type": "code",
   "execution_count": 19,
   "id": "344e8f93",
   "metadata": {},
   "outputs": [],
   "source": [
    "# I keep forgetting to change calculated_host_listings_count. It's super redundant.\n",
    "df_bnb=df_bnb.rename(columns={'calculated_host_listings_count':'host_listing_count'})"
   ]
  },
  {
   "cell_type": "code",
   "execution_count": 20,
   "id": "9ccdf449",
   "metadata": {},
   "outputs": [
    {
     "data": {
      "text/plain": [
       "Index(['listing_id', 'listing_name', 'host_id', 'neighbourhood_group',\n",
       "       'neighbourhood', 'latitude', 'longitude', 'city', 'state', 'room_type',\n",
       "       'price', 'minimum_nights', 'number_of_reviews', 'last_review',\n",
       "       'reviews_per_month', 'host_listing_count', 'availability_365'],\n",
       "      dtype='object')"
      ]
     },
     "execution_count": 20,
     "metadata": {},
     "output_type": "execute_result"
    }
   ],
   "source": [
    "df_bnb.columns"
   ]
  },
  {
   "cell_type": "code",
   "execution_count": 9,
   "id": "eefbb15f",
   "metadata": {},
   "outputs": [],
   "source": [
    "#ok, all done there, now for the state bit.\n",
    "df_bnb=df_bnb[['listing_id','listing_name', 'host_id', 'neighbourhood_group','neighbourhood', 'latitude', 'longitude', 'city',\n",
    "              'state', 'room_type', 'price', 'minimum_nights', 'number_of_reviews', 'last_review', 'reviews_per_month', \n",
    "               'calculated_host_listings_count', 'availability_365']]"
   ]
  },
  {
   "cell_type": "code",
   "execution_count": 11,
   "id": "6c2f962b",
   "metadata": {},
   "outputs": [
    {
     "data": {
      "text/html": [
       "<div>\n",
       "<style scoped>\n",
       "    .dataframe tbody tr th:only-of-type {\n",
       "        vertical-align: middle;\n",
       "    }\n",
       "\n",
       "    .dataframe tbody tr th {\n",
       "        vertical-align: top;\n",
       "    }\n",
       "\n",
       "    .dataframe thead th {\n",
       "        text-align: right;\n",
       "    }\n",
       "</style>\n",
       "<table border=\"1\" class=\"dataframe\">\n",
       "  <thead>\n",
       "    <tr style=\"text-align: right;\">\n",
       "      <th></th>\n",
       "      <th>listing_id</th>\n",
       "      <th>listing_name</th>\n",
       "      <th>host_id</th>\n",
       "      <th>neighbourhood_group</th>\n",
       "      <th>neighbourhood</th>\n",
       "      <th>latitude</th>\n",
       "      <th>longitude</th>\n",
       "      <th>city</th>\n",
       "      <th>state</th>\n",
       "      <th>room_type</th>\n",
       "      <th>price</th>\n",
       "      <th>minimum_nights</th>\n",
       "      <th>number_of_reviews</th>\n",
       "      <th>last_review</th>\n",
       "      <th>reviews_per_month</th>\n",
       "      <th>calculated_host_listings_count</th>\n",
       "      <th>availability_365</th>\n",
       "    </tr>\n",
       "  </thead>\n",
       "  <tbody>\n",
       "    <tr>\n",
       "      <th>0</th>\n",
       "      <td>38585</td>\n",
       "      <td>Charming Victorian home - twin beds + breakfast</td>\n",
       "      <td>165529</td>\n",
       "      <td>None</td>\n",
       "      <td>28804</td>\n",
       "      <td>35.65146</td>\n",
       "      <td>-82.62792</td>\n",
       "      <td>Asheville</td>\n",
       "      <td>North Carolina</td>\n",
       "      <td>Private room</td>\n",
       "      <td>60</td>\n",
       "      <td>1</td>\n",
       "      <td>138</td>\n",
       "      <td>16/02/20</td>\n",
       "      <td>1.14</td>\n",
       "      <td>1</td>\n",
       "      <td>0</td>\n",
       "    </tr>\n",
       "    <tr>\n",
       "      <th>1</th>\n",
       "      <td>80905</td>\n",
       "      <td>French Chic Loft</td>\n",
       "      <td>427027</td>\n",
       "      <td>None</td>\n",
       "      <td>28801</td>\n",
       "      <td>35.59779</td>\n",
       "      <td>-82.55540</td>\n",
       "      <td>Asheville</td>\n",
       "      <td>North Carolina</td>\n",
       "      <td>Entire home/apt</td>\n",
       "      <td>470</td>\n",
       "      <td>1</td>\n",
       "      <td>114</td>\n",
       "      <td>7/9/2020</td>\n",
       "      <td>1.03</td>\n",
       "      <td>11</td>\n",
       "      <td>288</td>\n",
       "    </tr>\n",
       "    <tr>\n",
       "      <th>2</th>\n",
       "      <td>108061</td>\n",
       "      <td>Walk to stores/parks/downtown. Fenced yard/Pet...</td>\n",
       "      <td>320564</td>\n",
       "      <td>None</td>\n",
       "      <td>28801</td>\n",
       "      <td>35.60670</td>\n",
       "      <td>-82.55563</td>\n",
       "      <td>Asheville</td>\n",
       "      <td>North Carolina</td>\n",
       "      <td>Entire home/apt</td>\n",
       "      <td>75</td>\n",
       "      <td>30</td>\n",
       "      <td>89</td>\n",
       "      <td>30/11/19</td>\n",
       "      <td>0.81</td>\n",
       "      <td>2</td>\n",
       "      <td>298</td>\n",
       "    </tr>\n",
       "    <tr>\n",
       "      <th>3</th>\n",
       "      <td>155305</td>\n",
       "      <td>Cottage! BonPaul + Sharky's Hostel</td>\n",
       "      <td>746673</td>\n",
       "      <td>None</td>\n",
       "      <td>28806</td>\n",
       "      <td>35.57864</td>\n",
       "      <td>-82.59578</td>\n",
       "      <td>Asheville</td>\n",
       "      <td>North Carolina</td>\n",
       "      <td>Entire home/apt</td>\n",
       "      <td>90</td>\n",
       "      <td>1</td>\n",
       "      <td>267</td>\n",
       "      <td>22/09/20</td>\n",
       "      <td>2.39</td>\n",
       "      <td>5</td>\n",
       "      <td>0</td>\n",
       "    </tr>\n",
       "    <tr>\n",
       "      <th>4</th>\n",
       "      <td>160594</td>\n",
       "      <td>Historic Grove Park</td>\n",
       "      <td>769252</td>\n",
       "      <td>None</td>\n",
       "      <td>28801</td>\n",
       "      <td>35.61442</td>\n",
       "      <td>-82.54127</td>\n",
       "      <td>Asheville</td>\n",
       "      <td>North Carolina</td>\n",
       "      <td>Private room</td>\n",
       "      <td>125</td>\n",
       "      <td>30</td>\n",
       "      <td>58</td>\n",
       "      <td>19/10/15</td>\n",
       "      <td>0.52</td>\n",
       "      <td>1</td>\n",
       "      <td>0</td>\n",
       "    </tr>\n",
       "  </tbody>\n",
       "</table>\n",
       "</div>"
      ],
      "text/plain": [
       "  listing_id                                       listing_name host_id  \\\n",
       "0      38585    Charming Victorian home - twin beds + breakfast  165529   \n",
       "1      80905                                   French Chic Loft  427027   \n",
       "2     108061  Walk to stores/parks/downtown. Fenced yard/Pet...  320564   \n",
       "3     155305                 Cottage! BonPaul + Sharky's Hostel  746673   \n",
       "4     160594                                Historic Grove Park  769252   \n",
       "\n",
       "  neighbourhood_group neighbourhood  latitude  longitude       city  \\\n",
       "0                None         28804  35.65146  -82.62792  Asheville   \n",
       "1                None         28801  35.59779  -82.55540  Asheville   \n",
       "2                None         28801  35.60670  -82.55563  Asheville   \n",
       "3                None         28806  35.57864  -82.59578  Asheville   \n",
       "4                None         28801  35.61442  -82.54127  Asheville   \n",
       "\n",
       "            state        room_type  price  minimum_nights  number_of_reviews  \\\n",
       "0  North Carolina     Private room     60               1                138   \n",
       "1  North Carolina  Entire home/apt    470               1                114   \n",
       "2  North Carolina  Entire home/apt     75              30                 89   \n",
       "3  North Carolina  Entire home/apt     90               1                267   \n",
       "4  North Carolina     Private room    125              30                 58   \n",
       "\n",
       "  last_review  reviews_per_month  calculated_host_listings_count  \\\n",
       "0    16/02/20               1.14                               1   \n",
       "1    7/9/2020               1.03                              11   \n",
       "2    30/11/19               0.81                               2   \n",
       "3    22/09/20               2.39                               5   \n",
       "4    19/10/15               0.52                               1   \n",
       "\n",
       "   availability_365  \n",
       "0                 0  \n",
       "1               288  \n",
       "2               298  \n",
       "3                 0  \n",
       "4                 0  "
      ]
     },
     "execution_count": 11,
     "metadata": {},
     "output_type": "execute_result"
    }
   ],
   "source": [
    "#double check our work\n",
    "df_bnb.head()"
   ]
  },
  {
   "cell_type": "markdown",
   "id": "d0782be8",
   "metadata": {},
   "source": [
    "### Let us take a quick re-check on the value\n",
    "we'll be looking at price, minimum nights, and calculated host listings."
   ]
  },
  {
   "cell_type": "code",
   "execution_count": 23,
   "id": "5909ffac",
   "metadata": {},
   "outputs": [
    {
     "name": "stderr",
     "output_type": "stream",
     "text": [
      "C:\\Users\\evras\\anaconda3\\lib\\site-packages\\seaborn\\distributions.py:2557: FutureWarning: `distplot` is a deprecated function and will be removed in a future version. Please adapt your code to use either `displot` (a figure-level function with similar flexibility) or `histplot` (an axes-level function for histograms).\n",
      "  warnings.warn(msg, FutureWarning)\n"
     ]
    },
    {
     "data": {
      "text/plain": [
       "<AxesSubplot:xlabel='price', ylabel='Density'>"
      ]
     },
     "execution_count": 23,
     "metadata": {},
     "output_type": "execute_result"
    },
    {
     "data": {
      "image/png": "[encoded data removed]",
      "text/plain": [
       "<Figure size 432x288 with 1 Axes>"
      ]
     },
     "metadata": {
      "needs_background": "light"
     },
     "output_type": "display_data"
    }
   ],
   "source": [
    "# Let's have a look at price because this is going to be the big issue\n",
    "sns.distplot(df_bnb['price'],bins=20)"
   ]
  },
  {
   "cell_type": "code",
   "execution_count": 75,
   "id": "d17d68c5",
   "metadata": {},
   "outputs": [],
   "source": [
    "# ok so just as before (no surprise) we have a huge price range.\n",
    "# I think the first step is to identfy a good bottom and top threshold.\n",
    "# To that end I'll look at prices below $10 a night, as anything that low feels unreasonable.\n",
    "# So I'll make a frame that's just listings under 10\n",
    "df_zeros=df_bnb.query('price<10')"
   ]
  },
  {
   "cell_type": "code",
   "execution_count": 76,
   "id": "f47236e4",
   "metadata": {},
   "outputs": [
    {
     "data": {
      "text/plain": [
       "0    62\n",
       "1     5\n",
       "5     3\n",
       "9     1\n",
       "Name: price, dtype: int64"
      ]
     },
     "execution_count": 76,
     "metadata": {},
     "output_type": "execute_result"
    }
   ],
   "source": [
    "# now we'll take a look at how many we end up with\n",
    "df_zeros['price'].value_counts()"
   ]
  },
  {
   "cell_type": "code",
   "execution_count": null,
   "id": "68bc98d5",
   "metadata": {},
   "outputs": [],
   "source": [
    "# ok, so 71 listings in total, I think we can do without those, we have 226000 rows to play with\n",
    "# well, I guess its 227939 rows now haha."
   ]
  },
  {
   "cell_type": "code",
   "execution_count": 70,
   "id": "f48491ba",
   "metadata": {},
   "outputs": [],
   "source": [
    "# I ran one of these for 1k(about 1023 values), 1.5(676), 2k(490), 2.5k(365), 3k(246), 4k(142)\n",
    "# I settled on 3k because I felt like anything over that was going to be too much, and it could really skew the results.\n",
    "# Too much in terms of cost, they would be outliers. Not too much in terms of lines lost, 3k feels good in that respect\n",
    "df_grands=df_bnb.query('price>3000')"
   ]
  },
  {
   "cell_type": "code",
   "execution_count": 71,
   "id": "7cf528b5",
   "metadata": {},
   "outputs": [
    {
     "data": {
      "text/plain": [
       "3013      1\n",
       "3018      1\n",
       "3025      1\n",
       "3029      2\n",
       "3040      1\n",
       "         ..\n",
       "18000     1\n",
       "20000     1\n",
       "21053     1\n",
       "24600     1\n",
       "24999    27\n",
       "Name: price, Length: 246, dtype: int64"
      ]
     },
     "execution_count": 71,
     "metadata": {},
     "output_type": "execute_result"
    }
   ],
   "source": [
    "df_grands['price'].value_counts(ascending=True).sort_index(ascending=True)"
   ]
  },
  {
   "cell_type": "code",
   "execution_count": 84,
   "id": "336a8d3f",
   "metadata": {},
   "outputs": [],
   "source": [
    "#so now we just set up a frame that exists inbetween those and take another look at the chart!\n",
    "df_bnb_2=df_bnb.query('price>=10 and price<=3000')"
   ]
  },
  {
   "cell_type": "code",
   "execution_count": 85,
   "id": "0a4f8b48",
   "metadata": {},
   "outputs": [
    {
     "name": "stderr",
     "output_type": "stream",
     "text": [
      "C:\\Users\\evras\\anaconda3\\lib\\site-packages\\seaborn\\distributions.py:2557: FutureWarning: `distplot` is a deprecated function and will be removed in a future version. Please adapt your code to use either `displot` (a figure-level function with similar flexibility) or `histplot` (an axes-level function for histograms).\n",
      "  warnings.warn(msg, FutureWarning)\n"
     ]
    },
    {
     "data": {
      "text/plain": [
       "<AxesSubplot:xlabel='price', ylabel='Density'>"
      ]
     },
     "execution_count": 85,
     "metadata": {},
     "output_type": "execute_result"
    },
    {
     "data": {
      "image/png": "[encoded data removed]",
      "text/plain": [
       "<Figure size 432x288 with 1 Axes>"
      ]
     },
     "metadata": {
      "needs_background": "light"
     },
     "output_type": "display_data"
    }
   ],
   "source": [
    "sns.distplot(df_bnb_2['price'],bins=20)"
   ]
  },
  {
   "cell_type": "code",
   "execution_count": 77,
   "id": "ab9f7c0e",
   "metadata": {},
   "outputs": [],
   "source": [
    "# Much easier to read this one.\n",
    "# Not surprisingly there is a pretty steep drop off after about $150 a night, than another after 300.\n",
    "# just as a matter of clean up, I'll get rid of df_zeros and df_grands\n",
    "del(df_zeros, df_grands)"
   ]
  },
  {
   "cell_type": "code",
   "execution_count": 86,
   "id": "9eba6079",
   "metadata": {},
   "outputs": [
    {
     "data": {
      "text/plain": [
       "count    225025.000000\n",
       "mean         10.108988\n",
       "std          24.879325\n",
       "min           1.000000\n",
       "25%           1.000000\n",
       "50%           2.000000\n",
       "75%           7.000000\n",
       "max        1250.000000\n",
       "Name: minimum_nights, dtype: float64"
      ]
     },
     "execution_count": 86,
     "metadata": {},
     "output_type": "execute_result"
    }
   ],
   "source": [
    "# Ok, on to the next one. Minimum nights\n",
    "df_bnb_2['minimum_nights'].describe()"
   ]
  },
  {
   "cell_type": "code",
   "execution_count": 99,
   "id": "220bd552",
   "metadata": {},
   "outputs": [],
   "source": [
    "#ok so, 1 night seems totally reasonable, 1250 is like 3 and half years sooooo Let's go with one year. Much less crazy.\n",
    "df_night=df_bnb_2.query('minimum_nights>365')"
   ]
  },
  {
   "cell_type": "code",
   "execution_count": 100,
   "id": "6d106b3b",
   "metadata": {},
   "outputs": [
    {
     "data": {
      "text/plain": [
       "1000    16\n",
       "500     12\n",
       "400      5\n",
       "1125     5\n",
       "1124     3\n",
       "999      2\n",
       "366      2\n",
       "600      2\n",
       "950      1\n",
       "370      1\n",
       "369      1\n",
       "750      1\n",
       "800      1\n",
       "456      1\n",
       "1123     1\n",
       "1250     1\n",
       "480      1\n",
       "730      1\n",
       "395      1\n",
       "700      1\n",
       "Name: minimum_nights, dtype: int64"
      ]
     },
     "execution_count": 100,
     "metadata": {},
     "output_type": "execute_result"
    }
   ],
   "source": [
    "df_night['minimum_nights'].value_counts()"
   ]
  },
  {
   "cell_type": "code",
   "execution_count": 127,
   "id": "fde080f2",
   "metadata": {},
   "outputs": [],
   "source": [
    "df_bnb_3=df_bnb_2.query('minimum_nights<=365')"
   ]
  },
  {
   "cell_type": "code",
   "execution_count": 128,
   "id": "a86ad045",
   "metadata": {},
   "outputs": [
    {
     "data": {
      "text/plain": [
       "(224966, 17)"
      ]
     },
     "execution_count": 128,
     "metadata": {},
     "output_type": "execute_result"
    }
   ],
   "source": [
    "df_bnb_3.shape"
   ]
  },
  {
   "cell_type": "code",
   "execution_count": 129,
   "id": "4b199034",
   "metadata": {},
   "outputs": [],
   "source": [
    "# Oh that came out nicely. so 59 lines of over a year. We can lose those. Let's take a look\n",
    "df_bnb_3=df_night"
   ]
  },
  {
   "cell_type": "code",
   "execution_count": 130,
   "id": "4b48d97b",
   "metadata": {},
   "outputs": [
    {
     "name": "stderr",
     "output_type": "stream",
     "text": [
      "C:\\Users\\evras\\anaconda3\\lib\\site-packages\\seaborn\\distributions.py:2557: FutureWarning: `distplot` is a deprecated function and will be removed in a future version. Please adapt your code to use either `displot` (a figure-level function with similar flexibility) or `histplot` (an axes-level function for histograms).\n",
      "  warnings.warn(msg, FutureWarning)\n"
     ]
    },
    {
     "data": {
      "text/plain": [
       "<AxesSubplot:xlabel='minimum_nights', ylabel='Density'>"
      ]
     },
     "execution_count": 130,
     "metadata": {},
     "output_type": "execute_result"
    },
    {
     "data": {
      "image/png": "[encoded data removed]",
      "text/plain": [
       "<Figure size 432x288 with 1 Axes>"
      ]
     },
     "metadata": {
      "needs_background": "light"
     },
     "output_type": "display_data"
    }
   ],
   "source": [
    "sns.distplot(df_bnb_3['minimum_nights'],bins=20)"
   ]
  },
  {
   "cell_type": "code",
   "execution_count": 131,
   "id": "b2799d63",
   "metadata": {},
   "outputs": [
    {
     "data": {
      "text/plain": [
       "count    59.000000\n",
       "mean      1.830508\n",
       "std       1.416072\n",
       "min       1.000000\n",
       "25%       1.000000\n",
       "50%       1.000000\n",
       "75%       2.000000\n",
       "max       6.000000\n",
       "Name: host_listing_count, dtype: float64"
      ]
     },
     "execution_count": 131,
     "metadata": {},
     "output_type": "execute_result"
    }
   ],
   "source": [
    "# well now that is an interesting distribution...\n",
    "# Finally let's take a look at host_listing_count!\n",
    "df_bnb_3['host_listing_count'].describe()"
   ]
  },
  {
   "cell_type": "code",
   "execution_count": 132,
   "id": "18ee3ead",
   "metadata": {},
   "outputs": [
    {
     "name": "stderr",
     "output_type": "stream",
     "text": [
      "C:\\Users\\evras\\anaconda3\\lib\\site-packages\\seaborn\\distributions.py:2557: FutureWarning: `distplot` is a deprecated function and will be removed in a future version. Please adapt your code to use either `displot` (a figure-level function with similar flexibility) or `histplot` (an axes-level function for histograms).\n",
      "  warnings.warn(msg, FutureWarning)\n"
     ]
    },
    {
     "data": {
      "text/plain": [
       "<AxesSubplot:xlabel='host_listing_count', ylabel='Density'>"
      ]
     },
     "execution_count": 132,
     "metadata": {},
     "output_type": "execute_result"
    },
    {
     "data": {
      "image/png": "[encoded data removed]",
      "text/plain": [
       "<Figure size 432x288 with 1 Axes>"
      ]
     },
     "metadata": {
      "needs_background": "light"
     },
     "output_type": "display_data"
    }
   ],
   "source": [
    "# oh that's pretty stright forward. Let's look at a chart!\n",
    "sns.distplot(df_bnb_3['host_listing_count'])\n",
    "#no bins on this one, we aren't looking at enough number for it to be helpful"
   ]
  },
  {
   "cell_type": "code",
   "execution_count": 133,
   "id": "349be621",
   "metadata": {},
   "outputs": [],
   "source": [
    "#I'm going to leave this bit as is. We know according to the describe that the max is 6, and honestly that works here.\n",
    "# Next phase!"
   ]
  },
  {
   "cell_type": "code",
   "execution_count": 144,
   "id": "01a7d297",
   "metadata": {},
   "outputs": [
    {
     "data": {
      "image/png": "[encoded data removed]",
      "text/plain": [
       "<Figure size 432x288 with 1 Axes>"
      ]
     },
     "metadata": {
      "needs_background": "light"
     },
     "output_type": "display_data"
    }
   ],
   "source": [
    "#some scatter plots!\n",
    "df_bnb_3.plot(x = 'minimum_nights', y='price',style='o')\n",
    "plt.title('Minimum Nights and Price')  \n",
    "plt.xlabel('Minimum Nights')  \n",
    "plt.ylabel('Price per Night')  \n",
    "plt.show()"
   ]
  },
  {
   "cell_type": "code",
   "execution_count": 145,
   "id": "1d608751",
   "metadata": {},
   "outputs": [
    {
     "data": {
      "image/png": "[encoded data removed]",
      "text/plain": [
       "<Figure size 432x288 with 1 Axes>"
      ]
     },
     "metadata": {
      "needs_background": "light"
     },
     "output_type": "display_data"
    }
   ],
   "source": [
    "#And another\n",
    "df_bnb_3.plot(x = 'host_listing_count', y='price',style='o')\n",
    "plt.title('Number of Host Listings and Price')  \n",
    "plt.xlabel('host Listings')  \n",
    "plt.ylabel('Price per Night')  \n",
    "plt.show()"
   ]
  },
  {
   "cell_type": "markdown",
   "id": "178e885b",
   "metadata": {},
   "source": [
    "# The Fancy bits"
   ]
  },
  {
   "cell_type": "markdown",
   "id": "be83cf48",
   "metadata": {},
   "source": [
    "Ok so I have 3 different variables I want to look at. So we'll end up with 2 different X values and one y(price) as such I'll move forward with X1 being minimum_nights, and X2 will be host_listing_count. However in order to avoid confusion (or a sea of errors) I'll run all the way through everything with X1, and then I'll do it again with X2.\n",
    "\n",
    "Also I would like to take a moment and point out that _I'm pretty sure there isn't a meaningful corellation here_. From the exploration we did a little while ago, the corrmap showed us that both of these variables have correlation values of .0036 and .043 respectivly with price. Why might I be bothering then you ask? Well one of my hypothesis about this set is that host listings and prices are related on some level. So why not keep disproving it until there is _zero_ doubt!"
   ]
  },
  {
   "cell_type": "code",
   "execution_count": 134,
   "id": "f3c1a814",
   "metadata": {},
   "outputs": [],
   "source": [
    "# assigning the values\n",
    "X1=df_bnb_3['minimum_nights'].values.reshape(-1,1)\n",
    "X2=df_bnb_3['host_listing_count'].values.reshape(-1,1)\n",
    "y=df_bnb_3['price'].values.reshape(-1,1)"
   ]
  },
  {
   "cell_type": "markdown",
   "id": "50c13da8",
   "metadata": {},
   "source": [
    "## First up, Minimum Nights"
   ]
  },
  {
   "cell_type": "code",
   "execution_count": 135,
   "id": "ea6b9e9e",
   "metadata": {},
   "outputs": [],
   "source": [
    "#Spliting the test and train up for the minimum nights bit\n",
    "X1_train, X1_test, y_train, y_test=train_test_split(X1,y,test_size=0.3,random_state=0)"
   ]
  },
  {
   "cell_type": "code",
   "execution_count": 136,
   "id": "cab4067d",
   "metadata": {},
   "outputs": [],
   "source": [
    "#Setting up the regression object\n",
    "regression1=LinearRegression()"
   ]
  },
  {
   "cell_type": "code",
   "execution_count": 137,
   "id": "2b6b3fb2",
   "metadata": {},
   "outputs": [
    {
     "data": {
      "text/plain": [
       "LinearRegression()"
      ]
     },
     "execution_count": 137,
     "metadata": {},
     "output_type": "execute_result"
    }
   ],
   "source": [
    "#now the fit\n",
    "regression1.fit(X1_train,y_train)"
   ]
  },
  {
   "cell_type": "code",
   "execution_count": 138,
   "id": "bc39c652",
   "metadata": {},
   "outputs": [],
   "source": [
    "#ok so far so good. Now for the test.\n",
    "y_predicted1=regression1.predict(X1_test)"
   ]
  },
  {
   "cell_type": "code",
   "execution_count": 139,
   "id": "d21b6343",
   "metadata": {},
   "outputs": [
    {
     "data": {
      "image/png": "[encoded data removed]",
      "text/plain": [
       "<Figure size 432x288 with 1 Axes>"
      ]
     },
     "metadata": {
      "needs_background": "light"
     },
     "output_type": "display_data"
    }
   ],
   "source": [
    "#now for the line heavy plot part!\n",
    "plot_test1=plt\n",
    "plot_test1.scatter(X1_test,y_test, color='grey',s=15)\n",
    "plot_test1.plot(X1_test,y_predicted1,color='red',linewidth=3)\n",
    "plot_test1.title('Price and Minimum Nights(test set)')\n",
    "plot_test1.xlabel('Minimum Nights')\n",
    "plot_test1.ylabel('Price per Night')\n",
    "plot_test1.show()"
   ]
  },
  {
   "cell_type": "code",
   "execution_count": 140,
   "id": "bcbe9a92",
   "metadata": {},
   "outputs": [],
   "source": [
    "#cool beans. looks like theres a negitive relationship, if any.\n",
    "# Let's do the evaluation parts\n",
    "rmse_1=mean_squared_error(y_test,y_predicted1)\n",
    "r2_1=r2_score(y_test,y_predicted1)"
   ]
  },
  {
   "cell_type": "code",
   "execution_count": 141,
   "id": "387f2b92",
   "metadata": {},
   "outputs": [
    {
     "name": "stdout",
     "output_type": "stream",
     "text": [
      "Slope: [[-0.08375279]]\n",
      "Mean Squared Error: 87670.08977101248\n",
      "R2 Score -0.07794558688980491\n"
     ]
    }
   ],
   "source": [
    "#and now to print it all out\n",
    "print('Slope:',regression1.coef_)\n",
    "print('Mean Squared Error:',rmse_1)\n",
    "print('R2 Score',r2_1)"
   ]
  },
  {
   "cell_type": "code",
   "execution_count": 142,
   "id": "24ec3b31",
   "metadata": {},
   "outputs": [
    {
     "data": {
      "text/html": [
       "<div>\n",
       "<style scoped>\n",
       "    .dataframe tbody tr th:only-of-type {\n",
       "        vertical-align: middle;\n",
       "    }\n",
       "\n",
       "    .dataframe tbody tr th {\n",
       "        vertical-align: top;\n",
       "    }\n",
       "\n",
       "    .dataframe thead th {\n",
       "        text-align: right;\n",
       "    }\n",
       "</style>\n",
       "<table border=\"1\" class=\"dataframe\">\n",
       "  <thead>\n",
       "    <tr style=\"text-align: right;\">\n",
       "      <th></th>\n",
       "      <th>Actual</th>\n",
       "      <th>Predicted</th>\n",
       "    </tr>\n",
       "  </thead>\n",
       "  <tbody>\n",
       "    <tr>\n",
       "      <th>0</th>\n",
       "      <td>329</td>\n",
       "      <td>153.508561</td>\n",
       "    </tr>\n",
       "    <tr>\n",
       "      <th>1</th>\n",
       "      <td>45</td>\n",
       "      <td>195.384957</td>\n",
       "    </tr>\n",
       "    <tr>\n",
       "      <th>2</th>\n",
       "      <td>700</td>\n",
       "      <td>143.039462</td>\n",
       "    </tr>\n",
       "    <tr>\n",
       "      <th>3</th>\n",
       "      <td>115</td>\n",
       "      <td>206.272819</td>\n",
       "    </tr>\n",
       "    <tr>\n",
       "      <th>4</th>\n",
       "      <td>45</td>\n",
       "      <td>204.179000</td>\n",
       "    </tr>\n",
       "    <tr>\n",
       "      <th>5</th>\n",
       "      <td>135</td>\n",
       "      <td>187.009677</td>\n",
       "    </tr>\n",
       "    <tr>\n",
       "      <th>6</th>\n",
       "      <td>50</td>\n",
       "      <td>195.384957</td>\n",
       "    </tr>\n",
       "    <tr>\n",
       "      <th>7</th>\n",
       "      <td>75</td>\n",
       "      <td>153.508561</td>\n",
       "    </tr>\n",
       "    <tr>\n",
       "      <th>8</th>\n",
       "      <td>31</td>\n",
       "      <td>153.592314</td>\n",
       "    </tr>\n",
       "    <tr>\n",
       "      <th>9</th>\n",
       "      <td>1200</td>\n",
       "      <td>157.696201</td>\n",
       "    </tr>\n",
       "    <tr>\n",
       "      <th>10</th>\n",
       "      <td>98</td>\n",
       "      <td>195.384957</td>\n",
       "    </tr>\n",
       "    <tr>\n",
       "      <th>11</th>\n",
       "      <td>159</td>\n",
       "      <td>143.039462</td>\n",
       "    </tr>\n",
       "    <tr>\n",
       "      <th>12</th>\n",
       "      <td>180</td>\n",
       "      <td>132.570363</td>\n",
       "    </tr>\n",
       "    <tr>\n",
       "      <th>13</th>\n",
       "      <td>50</td>\n",
       "      <td>153.508561</td>\n",
       "    </tr>\n",
       "    <tr>\n",
       "      <th>14</th>\n",
       "      <td>199</td>\n",
       "      <td>197.060012</td>\n",
       "    </tr>\n",
       "    <tr>\n",
       "      <th>15</th>\n",
       "      <td>130</td>\n",
       "      <td>195.384957</td>\n",
       "    </tr>\n",
       "    <tr>\n",
       "      <th>16</th>\n",
       "      <td>60</td>\n",
       "      <td>195.384957</td>\n",
       "    </tr>\n",
       "    <tr>\n",
       "      <th>17</th>\n",
       "      <td>90</td>\n",
       "      <td>153.508561</td>\n",
       "    </tr>\n",
       "  </tbody>\n",
       "</table>\n",
       "</div>"
      ],
      "text/plain": [
       "    Actual   Predicted\n",
       "0      329  153.508561\n",
       "1       45  195.384957\n",
       "2      700  143.039462\n",
       "3      115  206.272819\n",
       "4       45  204.179000\n",
       "5      135  187.009677\n",
       "6       50  195.384957\n",
       "7       75  153.508561\n",
       "8       31  153.592314\n",
       "9     1200  157.696201\n",
       "10      98  195.384957\n",
       "11     159  143.039462\n",
       "12     180  132.570363\n",
       "13      50  153.508561\n",
       "14     199  197.060012\n",
       "15     130  195.384957\n",
       "16      60  195.384957\n",
       "17      90  153.508561"
      ]
     },
     "execution_count": 142,
     "metadata": {},
     "output_type": "execute_result"
    }
   ],
   "source": [
    "#well I could have told you from the picture, but the model does not look great.\n",
    "#but as per usual, disproving a hypothesis is as good if not better than proving one.\n",
    "#next we'll do a quick visual comparison just to do it\n",
    "data1=pd.DataFrame({'Actual':y_test.flatten(),'Predicted':y_predicted1.flatten()})\n",
    "data1.head(30)"
   ]
  },
  {
   "cell_type": "markdown",
   "id": "4b79c701",
   "metadata": {},
   "source": [
    "## Round two, it's host_listing_count"
   ]
  },
  {
   "cell_type": "code",
   "execution_count": 146,
   "id": "b34c7efa",
   "metadata": {},
   "outputs": [],
   "source": [
    "#Spliting the test and train up for the minimum nights bit\n",
    "X2_train, X2_test, y_train, y_test=train_test_split(X2,y,test_size=0.3,random_state=0)"
   ]
  },
  {
   "cell_type": "code",
   "execution_count": 147,
   "id": "c88fb8b4",
   "metadata": {},
   "outputs": [],
   "source": [
    "#Setting up the regression object\n",
    "regression2=LinearRegression()"
   ]
  },
  {
   "cell_type": "code",
   "execution_count": 148,
   "id": "3fc5f5a4",
   "metadata": {},
   "outputs": [
    {
     "data": {
      "text/plain": [
       "LinearRegression()"
      ]
     },
     "execution_count": 148,
     "metadata": {},
     "output_type": "execute_result"
    }
   ],
   "source": [
    "#now the fit\n",
    "regression2.fit(X2_train,y_train)"
   ]
  },
  {
   "cell_type": "code",
   "execution_count": 149,
   "id": "c82d8e07",
   "metadata": {},
   "outputs": [],
   "source": [
    "#next is the test\n",
    "y_predicted2=regression2.predict(X2_test)"
   ]
  },
  {
   "cell_type": "code",
   "execution_count": 154,
   "id": "9bcc0ad3",
   "metadata": {},
   "outputs": [
    {
     "data": {
      "image/png": "[encoded data removed]",
      "text/plain": [
       "<Figure size 432x288 with 1 Axes>"
      ]
     },
     "metadata": {
      "needs_background": "light"
     },
     "output_type": "display_data"
    }
   ],
   "source": [
    "#plot it out\n",
    "plot_test2=plt\n",
    "plot_test2.scatter(X2_test,y_test, color='grey',s=15)\n",
    "plot_test2.plot(X2_test,y_predicted1,color='red',linewidth=3)\n",
    "plot_test2.title('Price and Host Listings(test set)')\n",
    "plot_test2.xlabel('Host Listing Count')\n",
    "plot_test2.ylabel('Price per Night')\n",
    "plot_test2.show()"
   ]
  },
  {
   "cell_type": "code",
   "execution_count": 151,
   "id": "19b39c15",
   "metadata": {},
   "outputs": [],
   "source": [
    "# well that's ... wildly different that what I was expecting to see ... I mean, it sure SEEMS negative, but its very zigzaggy\n",
    "rmse_2=mean_squared_error(y_test,y_predicted2)\n",
    "r2_2=r2_score(y_test,y_predicted2)"
   ]
  },
  {
   "cell_type": "code",
   "execution_count": 152,
   "id": "379ac25d",
   "metadata": {},
   "outputs": [
    {
     "name": "stdout",
     "output_type": "stream",
     "text": [
      "Slope: [[-9.78125]]\n",
      "Mean Squared Error: 81270.8006422759\n",
      "R2 Score 0.0007367264689558395\n"
     ]
    }
   ],
   "source": [
    "print('Slope:',regression2.coef_)\n",
    "print('Mean Squared Error:',rmse_2)\n",
    "print('R2 Score',r2_2)"
   ]
  },
  {
   "cell_type": "code",
   "execution_count": 153,
   "id": "01d4c262",
   "metadata": {
    "scrolled": false
   },
   "outputs": [
    {
     "data": {
      "text/html": [
       "<div>\n",
       "<style scoped>\n",
       "    .dataframe tbody tr th:only-of-type {\n",
       "        vertical-align: middle;\n",
       "    }\n",
       "\n",
       "    .dataframe tbody tr th {\n",
       "        vertical-align: top;\n",
       "    }\n",
       "\n",
       "    .dataframe thead th {\n",
       "        text-align: right;\n",
       "    }\n",
       "</style>\n",
       "<table border=\"1\" class=\"dataframe\">\n",
       "  <thead>\n",
       "    <tr style=\"text-align: right;\">\n",
       "      <th></th>\n",
       "      <th>Actual</th>\n",
       "      <th>Predicted</th>\n",
       "    </tr>\n",
       "  </thead>\n",
       "  <tbody>\n",
       "    <tr>\n",
       "      <th>0</th>\n",
       "      <td>329</td>\n",
       "      <td>172.902439</td>\n",
       "    </tr>\n",
       "    <tr>\n",
       "      <th>1</th>\n",
       "      <td>45</td>\n",
       "      <td>182.683689</td>\n",
       "    </tr>\n",
       "    <tr>\n",
       "      <th>2</th>\n",
       "      <td>700</td>\n",
       "      <td>182.683689</td>\n",
       "    </tr>\n",
       "    <tr>\n",
       "      <th>3</th>\n",
       "      <td>115</td>\n",
       "      <td>182.683689</td>\n",
       "    </tr>\n",
       "    <tr>\n",
       "      <th>4</th>\n",
       "      <td>45</td>\n",
       "      <td>153.339939</td>\n",
       "    </tr>\n",
       "    <tr>\n",
       "      <th>5</th>\n",
       "      <td>135</td>\n",
       "      <td>182.683689</td>\n",
       "    </tr>\n",
       "    <tr>\n",
       "      <th>6</th>\n",
       "      <td>50</td>\n",
       "      <td>182.683689</td>\n",
       "    </tr>\n",
       "    <tr>\n",
       "      <th>7</th>\n",
       "      <td>75</td>\n",
       "      <td>153.339939</td>\n",
       "    </tr>\n",
       "    <tr>\n",
       "      <th>8</th>\n",
       "      <td>31</td>\n",
       "      <td>182.683689</td>\n",
       "    </tr>\n",
       "    <tr>\n",
       "      <th>9</th>\n",
       "      <td>1200</td>\n",
       "      <td>182.683689</td>\n",
       "    </tr>\n",
       "    <tr>\n",
       "      <th>10</th>\n",
       "      <td>98</td>\n",
       "      <td>182.683689</td>\n",
       "    </tr>\n",
       "    <tr>\n",
       "      <th>11</th>\n",
       "      <td>159</td>\n",
       "      <td>172.902439</td>\n",
       "    </tr>\n",
       "    <tr>\n",
       "      <th>12</th>\n",
       "      <td>180</td>\n",
       "      <td>182.683689</td>\n",
       "    </tr>\n",
       "    <tr>\n",
       "      <th>13</th>\n",
       "      <td>50</td>\n",
       "      <td>182.683689</td>\n",
       "    </tr>\n",
       "    <tr>\n",
       "      <th>14</th>\n",
       "      <td>199</td>\n",
       "      <td>182.683689</td>\n",
       "    </tr>\n",
       "    <tr>\n",
       "      <th>15</th>\n",
       "      <td>130</td>\n",
       "      <td>182.683689</td>\n",
       "    </tr>\n",
       "    <tr>\n",
       "      <th>16</th>\n",
       "      <td>60</td>\n",
       "      <td>182.683689</td>\n",
       "    </tr>\n",
       "    <tr>\n",
       "      <th>17</th>\n",
       "      <td>90</td>\n",
       "      <td>182.683689</td>\n",
       "    </tr>\n",
       "  </tbody>\n",
       "</table>\n",
       "</div>"
      ],
      "text/plain": [
       "    Actual   Predicted\n",
       "0      329  172.902439\n",
       "1       45  182.683689\n",
       "2      700  182.683689\n",
       "3      115  182.683689\n",
       "4       45  153.339939\n",
       "5      135  182.683689\n",
       "6       50  182.683689\n",
       "7       75  153.339939\n",
       "8       31  182.683689\n",
       "9     1200  182.683689\n",
       "10      98  182.683689\n",
       "11     159  172.902439\n",
       "12     180  182.683689\n",
       "13      50  182.683689\n",
       "14     199  182.683689\n",
       "15     130  182.683689\n",
       "16      60  182.683689\n",
       "17      90  182.683689"
      ]
     },
     "execution_count": 153,
     "metadata": {},
     "output_type": "execute_result"
    }
   ],
   "source": [
    "#another round of poor fitting and predictible correlation\n",
    "data1=pd.DataFrame({'Actual':y_test.flatten(),'Predicted':y_predicted2.flatten()})\n",
    "data1.head(30)"
   ]
  },
  {
   "cell_type": "markdown",
   "id": "97424df9",
   "metadata": {},
   "source": [
    "# Thoughts"
   ]
  },
  {
   "cell_type": "markdown",
   "id": "01303b20",
   "metadata": {},
   "source": [
    "Well, I can't say I'm surprised by the results but I am _please_ by them. They are absolutly consistent with the corrmap I did a few days ago and that is an excellent sign in and of itself. It mean that, without a doubt, there is no correlatin between pricing and either minimum_nights or host_listing_count. I'm still a little surprised by the listing count thing, I honestly was expecting to see that if a host had more listings they would have higher pricing. If only because I would expect the multiple listings to be the result of someone(s) who are strictly in it for the money. And while that might be true, it doesn't seem to be the case in any level of uniformity. Which is intersting.\n",
    "\n",
    "On the point of the minimum_nights lack of correlation, I would say that I'm only not surprised again because of the corrmap. I did think, going into all this, that minimum_nights might be an indicator of higher prices. In the interest of keeping people who might be less well off out of longer term rentals. Yet here again we have no meaningful correlation, _also intersting_. I think the only thing left to really see is if certain areas tend to generate more of a price increase. I'll be honest though I'm not holding my breath, at the end of the day my money is more on the notion that _events and seasons_ have the biggest impact on pricing. Sadly, I don't have access to that data. Still, we'll see what we find out."
   ]
  }
 ],
 "metadata": {
  "kernelspec": {
   "display_name": "Python 3",
   "language": "python",
   "name": "python3"
  },
  "language_info": {
   "codemirror_mode": {
    "name": "ipython",
    "version": 3
   },
   "file_extension": ".py",
   "mimetype": "text/x-python",
   "name": "python",
   "nbconvert_exporter": "python",
   "pygments_lexer": "ipython3",
   "version": "3.8.8"
  }
 },
 "nbformat": 4,
 "nbformat_minor": 5
}
